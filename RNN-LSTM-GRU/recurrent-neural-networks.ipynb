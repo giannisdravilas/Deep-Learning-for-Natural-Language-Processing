{
  "cells": [
    {
      "attachments": {},
      "cell_type": "markdown",
      "metadata": {
        "id": "sPdQ4JIsjTS0"
      },
      "source": [
        "# Recurrent Neural Netowrks with LSTM/GRU cells"
      ]
    },
    {
      "cell_type": "markdown",
      "metadata": {
        "id": "-ut28ujkolgV"
      },
      "source": [
        "Read csv into pandas dataframe"
      ]
    },
    {
      "cell_type": "code",
      "execution_count": null,
      "metadata": {
        "execution": {
          "iopub.execute_input": "2023-01-27T11:01:58.547113Z",
          "iopub.status.busy": "2023-01-27T11:01:58.546636Z",
          "iopub.status.idle": "2023-01-27T11:01:59.113147Z",
          "shell.execute_reply": "2023-01-27T11:01:59.112095Z",
          "shell.execute_reply.started": "2023-01-27T11:01:58.547060Z"
        },
        "id": "9a-WWI9ktzog",
        "trusted": true
      },
      "outputs": [],
      "source": [
        "import pandas as pd\n",
        "\n",
        "df = pd.read_csv('imdb-reviews.csv', sep='\\t')"
      ]
    },
    {
      "cell_type": "markdown",
      "metadata": {
        "id": "nqhH6jJJpHSh"
      },
      "source": [
        "Create functions used for data cleaning and apply them to our dataframe.\n",
        "\n",
        "The function data_preprocessing() can be used for any dataframe we want to preprocess/transform later."
      ]
    },
    {
      "cell_type": "code",
      "execution_count": null,
      "metadata": {
        "colab": {
          "base_uri": "https://localhost:8080/",
          "height": 840
        },
        "execution": {
          "iopub.execute_input": "2023-01-27T11:01:59.115636Z",
          "iopub.status.busy": "2023-01-27T11:01:59.115272Z",
          "iopub.status.idle": "2023-01-27T11:02:49.394853Z",
          "shell.execute_reply": "2023-01-27T11:02:49.393598Z",
          "shell.execute_reply.started": "2023-01-27T11:01:59.115602Z"
        },
        "id": "qZ7iTEWmYDWU",
        "outputId": "29f1749f-d02a-4f46-fb48-a6b983d0b620",
        "trusted": true
      },
      "outputs": [
        {
          "name": "stderr",
          "output_type": "stream",
          "text": [
            "[nltk_data] Downloading package stopwords to /usr/share/nltk_data...\n",
            "[nltk_data]   Package stopwords is already up-to-date!\n",
            "[nltk_data] Downloading package wordnet to /usr/share/nltk_data...\n",
            "[nltk_data]   Package wordnet is already up-to-date!\n",
            "[nltk_data] Downloading package omw-1.4 to /usr/share/nltk_data...\n"
          ]
        },
        {
          "data": {
            "text/html": [
              "<div>\n",
              "<style scoped>\n",
              "    .dataframe tbody tr th:only-of-type {\n",
              "        vertical-align: middle;\n",
              "    }\n",
              "\n",
              "    .dataframe tbody tr th {\n",
              "        vertical-align: top;\n",
              "    }\n",
              "\n",
              "    .dataframe thead th {\n",
              "        text-align: right;\n",
              "    }\n",
              "</style>\n",
              "<table border=\"1\" class=\"dataframe\">\n",
              "  <thead>\n",
              "    <tr style=\"text-align: right;\">\n",
              "      <th></th>\n",
              "      <th>url</th>\n",
              "      <th>rating</th>\n",
              "      <th>review</th>\n",
              "      <th>reviews_edited</th>\n",
              "      <th>target</th>\n",
              "    </tr>\n",
              "  </thead>\n",
              "  <tbody>\n",
              "    <tr>\n",
              "      <th>0</th>\n",
              "      <td>http://www.imdb.com/title/tt0120623/usercomments</td>\n",
              "      <td>10.0</td>\n",
              "      <td>I thought this was a quiet good movie. It was ...</td>\n",
              "      <td>thought wa quiet good movie wa fun watch it li...</td>\n",
              "      <td>1</td>\n",
              "    </tr>\n",
              "    <tr>\n",
              "      <th>1</th>\n",
              "      <td>http://www.imdb.com/title/tt0043117/usercomments</td>\n",
              "      <td>9.0</td>\n",
              "      <td>Wagon Master is a very unique film amongst Joh...</td>\n",
              "      <td>wagon master unique film amongst john fords wo...</td>\n",
              "      <td>1</td>\n",
              "    </tr>\n",
              "    <tr>\n",
              "      <th>2</th>\n",
              "      <td>http://www.imdb.com/title/tt0043117/usercomments</td>\n",
              "      <td>10.0</td>\n",
              "      <td>This film has to be as near to perfect a film ...</td>\n",
              "      <td>film ha near perfect film john ford made film ...</td>\n",
              "      <td>1</td>\n",
              "    </tr>\n",
              "    <tr>\n",
              "      <th>3</th>\n",
              "      <td>http://www.imdb.com/title/tt0835204/usercomments</td>\n",
              "      <td>4.0</td>\n",
              "      <td>I gave this 4 stars because it has a lot of in...</td>\n",
              "      <td>gave 4 star ha lot interesting theme many alre...</td>\n",
              "      <td>0</td>\n",
              "    </tr>\n",
              "    <tr>\n",
              "      <th>4</th>\n",
              "      <td>http://www.imdb.com/title/tt0499603/usercomments</td>\n",
              "      <td>10.0</td>\n",
              "      <td>This movie is really genuine and random. It's ...</td>\n",
              "      <td>movie really genuine random really hard find m...</td>\n",
              "      <td>1</td>\n",
              "    </tr>\n",
              "    <tr>\n",
              "      <th>...</th>\n",
              "      <td>...</td>\n",
              "      <td>...</td>\n",
              "      <td>...</td>\n",
              "      <td>...</td>\n",
              "      <td>...</td>\n",
              "    </tr>\n",
              "    <tr>\n",
              "      <th>45003</th>\n",
              "      <td>http://www.imdb.com/title/tt0449000/usercomments</td>\n",
              "      <td>1.0</td>\n",
              "      <td>I don't even know where to begin...&lt;br /&gt;&lt;br /...</td>\n",
              "      <td>even know begin  its worth typing review quote...</td>\n",
              "      <td>0</td>\n",
              "    </tr>\n",
              "    <tr>\n",
              "      <th>45004</th>\n",
              "      <td>http://www.imdb.com/title/tt0109382/usercomments</td>\n",
              "      <td>1.0</td>\n",
              "      <td>One of the worst movies I saw in the 90s. I'd ...</td>\n",
              "      <td>one worst movie saw 90s id often use benchmark...</td>\n",
              "      <td>0</td>\n",
              "    </tr>\n",
              "    <tr>\n",
              "      <th>45005</th>\n",
              "      <td>http://www.imdb.com/title/tt0375560/usercomments</td>\n",
              "      <td>1.0</td>\n",
              "      <td>Baldwin has really stooped low to make such mo...</td>\n",
              "      <td>baldwin ha really stooped low make movies scri...</td>\n",
              "      <td>0</td>\n",
              "    </tr>\n",
              "    <tr>\n",
              "      <th>45006</th>\n",
              "      <td>http://www.imdb.com/title/tt0165107/usercomments</td>\n",
              "      <td>1.0</td>\n",
              "      <td>If you liked watching Mel Gibson in Million Do...</td>\n",
              "      <td>liked watching mel gibson million dollar hotel...</td>\n",
              "      <td>0</td>\n",
              "    </tr>\n",
              "    <tr>\n",
              "      <th>45007</th>\n",
              "      <td>http://www.imdb.com/title/tt0041513/usercomments</td>\n",
              "      <td>10.0</td>\n",
              "      <td>This is easily the best cinematic version of W...</td>\n",
              "      <td>easily best cinematic version william faulkner...</td>\n",
              "      <td>1</td>\n",
              "    </tr>\n",
              "  </tbody>\n",
              "</table>\n",
              "<p>45008 rows × 5 columns</p>\n",
              "</div>"
            ],
            "text/plain": [
              "                                                    url  rating  \\\n",
              "0      http://www.imdb.com/title/tt0120623/usercomments    10.0   \n",
              "1      http://www.imdb.com/title/tt0043117/usercomments     9.0   \n",
              "2      http://www.imdb.com/title/tt0043117/usercomments    10.0   \n",
              "3      http://www.imdb.com/title/tt0835204/usercomments     4.0   \n",
              "4      http://www.imdb.com/title/tt0499603/usercomments    10.0   \n",
              "...                                                 ...     ...   \n",
              "45003  http://www.imdb.com/title/tt0449000/usercomments     1.0   \n",
              "45004  http://www.imdb.com/title/tt0109382/usercomments     1.0   \n",
              "45005  http://www.imdb.com/title/tt0375560/usercomments     1.0   \n",
              "45006  http://www.imdb.com/title/tt0165107/usercomments     1.0   \n",
              "45007  http://www.imdb.com/title/tt0041513/usercomments    10.0   \n",
              "\n",
              "                                                  review  \\\n",
              "0      I thought this was a quiet good movie. It was ...   \n",
              "1      Wagon Master is a very unique film amongst Joh...   \n",
              "2      This film has to be as near to perfect a film ...   \n",
              "3      I gave this 4 stars because it has a lot of in...   \n",
              "4      This movie is really genuine and random. It's ...   \n",
              "...                                                  ...   \n",
              "45003  I don't even know where to begin...<br /><br /...   \n",
              "45004  One of the worst movies I saw in the 90s. I'd ...   \n",
              "45005  Baldwin has really stooped low to make such mo...   \n",
              "45006  If you liked watching Mel Gibson in Million Do...   \n",
              "45007  This is easily the best cinematic version of W...   \n",
              "\n",
              "                                          reviews_edited  target  \n",
              "0      thought wa quiet good movie wa fun watch it li...       1  \n",
              "1      wagon master unique film amongst john fords wo...       1  \n",
              "2      film ha near perfect film john ford made film ...       1  \n",
              "3      gave 4 star ha lot interesting theme many alre...       0  \n",
              "4      movie really genuine random really hard find m...       1  \n",
              "...                                                  ...     ...  \n",
              "45003  even know begin  its worth typing review quote...       0  \n",
              "45004  one worst movie saw 90s id often use benchmark...       0  \n",
              "45005  baldwin ha really stooped low make movies scri...       0  \n",
              "45006  liked watching mel gibson million dollar hotel...       0  \n",
              "45007  easily best cinematic version william faulkner...       1  \n",
              "\n",
              "[45008 rows x 5 columns]"
            ]
          },
          "execution_count": 7,
          "metadata": {},
          "output_type": "execute_result"
        }
      ],
      "source": [
        "import nltk\n",
        "nltk.download('stopwords')\n",
        "nltk.download('wordnet')\n",
        "nltk.download('omw-1.4')\n",
        "\n",
        "from nltk.corpus import stopwords\n",
        "\n",
        "def rate_to_pos_neg(row):\n",
        "  if row['rating'] <= 4:\n",
        "    return 0\n",
        "  elif row['rating'] >= 7:\n",
        "    return 1\n",
        "\n",
        "def data_preprocessing(df):\n",
        "\n",
        "  stop = set(stopwords.words('english'))\n",
        "\n",
        "  df['reviews_edited'] = df['review'].str.lower() # lowercase\n",
        "\n",
        "  # lemmatize text to group together the different inflected forms of a word so they can be analyzed as a single item\n",
        "  w_tokenizer = nltk.tokenize.WhitespaceTokenizer()\n",
        "  lemmatizer = nltk.stem.WordNetLemmatizer()\n",
        "\n",
        "  def lemmatize_text(text):\n",
        "    return ' '.join([lemmatizer.lemmatize(w) for w in w_tokenizer.tokenize(text)])\n",
        "\n",
        "  df['reviews_edited'] = df['reviews_edited'].apply(lemmatize_text)\n",
        "\n",
        "  df['reviews_edited'] = df['reviews_edited'].apply(lambda x: ' '.join([word for word in x.split() if word not in (stop)])) # remove stopwords\n",
        "  df['reviews_edited'] = df['reviews_edited'].str.replace(\"n\\'t\", \" not\", regex=True) # replace n't with not\n",
        "  df['reviews_edited'] = df['reviews_edited'].str.replace(r'<br />', ' ', regex=True) # remove html break lines\n",
        "  df[\"reviews_edited\"] = df['reviews_edited'].str.replace('[^\\w\\s]','', regex=True) # remove punctuation\n",
        "\n",
        "  df['target'] = df.apply(rate_to_pos_neg, axis=1)\n",
        "\n",
        "  return df\n",
        "\n",
        "df = data_preprocessing(df)\n",
        "\n",
        "df"
      ]
    },
    {
      "cell_type": "markdown",
      "metadata": {
        "id": "73_kV5Tsp9Cq"
      },
      "source": [
        "Create x, y datasets based on the features we need."
      ]
    },
    {
      "cell_type": "code",
      "execution_count": null,
      "metadata": {
        "colab": {
          "base_uri": "https://localhost:8080/",
          "height": 423
        },
        "execution": {
          "iopub.execute_input": "2023-01-27T11:02:49.397101Z",
          "iopub.status.busy": "2023-01-27T11:02:49.396694Z",
          "iopub.status.idle": "2023-01-27T11:02:49.436911Z",
          "shell.execute_reply": "2023-01-27T11:02:49.435789Z",
          "shell.execute_reply.started": "2023-01-27T11:02:49.397064Z"
        },
        "id": "ZlJIRrPrwj43",
        "outputId": "ea9078b8-3ab4-4fa0-a243-90737527c00b",
        "trusted": true
      },
      "outputs": [
        {
          "data": {
            "text/html": [
              "<div>\n",
              "<style scoped>\n",
              "    .dataframe tbody tr th:only-of-type {\n",
              "        vertical-align: middle;\n",
              "    }\n",
              "\n",
              "    .dataframe tbody tr th {\n",
              "        vertical-align: top;\n",
              "    }\n",
              "\n",
              "    .dataframe thead th {\n",
              "        text-align: right;\n",
              "    }\n",
              "</style>\n",
              "<table border=\"1\" class=\"dataframe\">\n",
              "  <thead>\n",
              "    <tr style=\"text-align: right;\">\n",
              "      <th></th>\n",
              "      <th>reviews_edited</th>\n",
              "      <th>target</th>\n",
              "    </tr>\n",
              "  </thead>\n",
              "  <tbody>\n",
              "    <tr>\n",
              "      <th>0</th>\n",
              "      <td>thought wa quiet good movie wa fun watch it li...</td>\n",
              "      <td>1</td>\n",
              "    </tr>\n",
              "    <tr>\n",
              "      <th>1</th>\n",
              "      <td>wagon master unique film amongst john fords wo...</td>\n",
              "      <td>1</td>\n",
              "    </tr>\n",
              "    <tr>\n",
              "      <th>2</th>\n",
              "      <td>film ha near perfect film john ford made film ...</td>\n",
              "      <td>1</td>\n",
              "    </tr>\n",
              "    <tr>\n",
              "      <th>3</th>\n",
              "      <td>gave 4 star ha lot interesting theme many alre...</td>\n",
              "      <td>0</td>\n",
              "    </tr>\n",
              "    <tr>\n",
              "      <th>4</th>\n",
              "      <td>movie really genuine random really hard find m...</td>\n",
              "      <td>1</td>\n",
              "    </tr>\n",
              "    <tr>\n",
              "      <th>...</th>\n",
              "      <td>...</td>\n",
              "      <td>...</td>\n",
              "    </tr>\n",
              "    <tr>\n",
              "      <th>45003</th>\n",
              "      <td>even know begin  its worth typing review quote...</td>\n",
              "      <td>0</td>\n",
              "    </tr>\n",
              "    <tr>\n",
              "      <th>45004</th>\n",
              "      <td>one worst movie saw 90s id often use benchmark...</td>\n",
              "      <td>0</td>\n",
              "    </tr>\n",
              "    <tr>\n",
              "      <th>45005</th>\n",
              "      <td>baldwin ha really stooped low make movies scri...</td>\n",
              "      <td>0</td>\n",
              "    </tr>\n",
              "    <tr>\n",
              "      <th>45006</th>\n",
              "      <td>liked watching mel gibson million dollar hotel...</td>\n",
              "      <td>0</td>\n",
              "    </tr>\n",
              "    <tr>\n",
              "      <th>45007</th>\n",
              "      <td>easily best cinematic version william faulkner...</td>\n",
              "      <td>1</td>\n",
              "    </tr>\n",
              "  </tbody>\n",
              "</table>\n",
              "<p>45008 rows × 2 columns</p>\n",
              "</div>"
            ],
            "text/plain": [
              "                                          reviews_edited  target\n",
              "0      thought wa quiet good movie wa fun watch it li...       1\n",
              "1      wagon master unique film amongst john fords wo...       1\n",
              "2      film ha near perfect film john ford made film ...       1\n",
              "3      gave 4 star ha lot interesting theme many alre...       0\n",
              "4      movie really genuine random really hard find m...       1\n",
              "...                                                  ...     ...\n",
              "45003  even know begin  its worth typing review quote...       0\n",
              "45004  one worst movie saw 90s id often use benchmark...       0\n",
              "45005  baldwin ha really stooped low make movies scri...       0\n",
              "45006  liked watching mel gibson million dollar hotel...       0\n",
              "45007  easily best cinematic version william faulkner...       1\n",
              "\n",
              "[45008 rows x 2 columns]"
            ]
          },
          "execution_count": 8,
          "metadata": {},
          "output_type": "execute_result"
        }
      ],
      "source": [
        "df = df[['reviews_edited', 'target']]\n",
        "x = df[['reviews_edited']]\n",
        "y = df[['target']]\n",
        "df"
      ]
    },
    {
      "cell_type": "markdown",
      "metadata": {
        "id": "JL5MJXSnUk2I"
      },
      "source": [
        "Split into train, valitation and test datasets with 80%, 16% and 4% proportion of the whole dataset respectively."
      ]
    },
    {
      "cell_type": "code",
      "execution_count": null,
      "metadata": {
        "execution": {
          "iopub.execute_input": "2023-01-27T11:02:49.439777Z",
          "iopub.status.busy": "2023-01-27T11:02:49.439362Z",
          "iopub.status.idle": "2023-01-27T11:02:49.454110Z",
          "shell.execute_reply": "2023-01-27T11:02:49.453060Z",
          "shell.execute_reply.started": "2023-01-27T11:02:49.439744Z"
        },
        "id": "Q5Y1B2yy1BZM",
        "trusted": true
      },
      "outputs": [],
      "source": [
        "from sklearn.model_selection import train_test_split\n",
        "import numpy as np\n",
        "\n",
        "x_train, x_val_test, y_train, y_val_test = train_test_split(x, np.ravel(y), test_size=0.2, random_state=42)\n",
        "x_val, x_test, y_val, y_test = train_test_split(x_val_test, np.ravel(y_val_test), test_size=0.2, random_state=42)"
      ]
    },
    {
      "cell_type": "markdown",
      "metadata": {
        "id": "WRAlX2RIYYf0"
      },
      "source": [
        "Create a custom Dataset class which inherits the Dataset class of torch.utils.data and creates a dataset using glove embeddings from Stanford using torchtext. For each review, we get the index vector of each word and add it in a list. The result when regarding a set of reviews, is a list of these lists."
      ]
    },
    {
      "cell_type": "code",
      "execution_count": null,
      "metadata": {
        "colab": {
          "base_uri": "https://localhost:8080/",
          "height": 200
        },
        "execution": {
          "iopub.execute_input": "2023-01-27T11:02:49.457173Z",
          "iopub.status.busy": "2023-01-27T11:02:49.456480Z",
          "iopub.status.idle": "2023-01-27T11:05:58.018706Z",
          "shell.execute_reply": "2023-01-27T11:05:58.017569Z",
          "shell.execute_reply.started": "2023-01-27T11:02:49.457136Z"
        },
        "id": "iXYMoWuNAWU0",
        "outputId": "c2fc5b1e-0220-4f5c-a430-5984853a4a0b",
        "trusted": true
      },
      "outputs": [
        {
          "name": "stdout",
          "output_type": "stream",
          "text": [
            "Requirement already satisfied: optuna in /opt/conda/lib/python3.7/site-packages (3.1.0)\n",
            "Requirement already satisfied: numpy in /opt/conda/lib/python3.7/site-packages (from optuna) (1.21.6)\n",
            "Requirement already satisfied: sqlalchemy>=1.3.0 in /opt/conda/lib/python3.7/site-packages (from optuna) (1.4.39)\n",
            "Requirement already satisfied: packaging>=20.0 in /opt/conda/lib/python3.7/site-packages (from optuna) (23.0)\n",
            "Requirement already satisfied: alembic>=1.5.0 in /opt/conda/lib/python3.7/site-packages (from optuna) (1.9.2)\n",
            "Requirement already satisfied: tqdm in /opt/conda/lib/python3.7/site-packages (from optuna) (4.64.0)\n",
            "Requirement already satisfied: colorlog in /opt/conda/lib/python3.7/site-packages (from optuna) (6.7.0)\n",
            "Requirement already satisfied: cmaes>=0.9.1 in /opt/conda/lib/python3.7/site-packages (from optuna) (0.9.1)\n",
            "Requirement already satisfied: PyYAML in /opt/conda/lib/python3.7/site-packages (from optuna) (6.0)\n",
            "Requirement already satisfied: importlib-resources in /opt/conda/lib/python3.7/site-packages (from alembic>=1.5.0->optuna) (5.10.2)\n",
            "Requirement already satisfied: importlib-metadata in /opt/conda/lib/python3.7/site-packages (from alembic>=1.5.0->optuna) (6.0.0)\n",
            "Requirement already satisfied: Mako in /opt/conda/lib/python3.7/site-packages (from alembic>=1.5.0->optuna) (1.2.4)\n",
            "Requirement already satisfied: greenlet!=0.4.17 in /opt/conda/lib/python3.7/site-packages (from sqlalchemy>=1.3.0->optuna) (1.1.2)\n",
            "Requirement already satisfied: typing-extensions>=3.6.4 in /opt/conda/lib/python3.7/site-packages (from importlib-metadata->alembic>=1.5.0->optuna) (4.1.1)\n",
            "Requirement already satisfied: zipp>=0.5 in /opt/conda/lib/python3.7/site-packages (from importlib-metadata->alembic>=1.5.0->optuna) (3.8.0)\n",
            "Requirement already satisfied: MarkupSafe>=0.9.2 in /opt/conda/lib/python3.7/site-packages (from Mako->alembic>=1.5.0->optuna) (2.1.2)\n",
            "\u001b[33mWARNING: Running pip as the 'root' user can result in broken permissions and conflicting behaviour with the system package manager. It is recommended to use a virtual environment instead: https://pip.pypa.io/warnings/venv\u001b[0m\u001b[33m\n",
            "\u001b[0m"
          ]
        },
        {
          "name": "stderr",
          "output_type": "stream",
          "text": [
            ".vector_cache/glove.6B.zip: 862MB [02:39, 5.41MB/s]                               \n",
            "100%|█████████▉| 9999/10000 [00:01<00:00, 9574.86it/s]\n"
          ]
        }
      ],
      "source": [
        "import torch\n",
        "from torch.utils.data import Dataset\n",
        "import torch.nn.functional as F\n",
        "import itertools\n",
        "import torchtext\n",
        "!pip install optuna\n",
        "import optuna\n",
        "\n",
        "device = torch.device(\"cuda\")\n",
        "\n",
        "vector_length = 300\n",
        "glove = torchtext.vocab.GloVe(name=\"6B\", dim = vector_length, max_vectors = 10000)\n",
        "\n",
        "class CustomDataset(Dataset):\n",
        "\n",
        "  def __init__(self, x_dataset, y_dataset):\n",
        "\n",
        "    self.labels = y_dataset\n",
        "    self.array = []\n",
        "\n",
        "    for review in x_dataset.reviews_edited:\n",
        "      # string to index from word2vec embeddings\n",
        "      self.array.append(np.array([glove.stoi[word] for word in review.split() if word in glove.stoi]))\n",
        "\n",
        "  def __getitem__(self, idx):\n",
        "    return torch.tensor(self.array[idx]).to(device), torch.tensor(self.labels[idx]).to(device)\n",
        "\n",
        "  def len(self):\n",
        "    return len(self.labels)\n",
        "\n",
        "  def __len__(self):\n",
        "    return len(self.labels)"
      ]
    },
    {
      "cell_type": "markdown",
      "metadata": {
        "id": "GmuIjljHZG24"
      },
      "source": [
        "Create train, validation and test datasets using the class we previously defined and the train, validation and test data we previously splitted. Also print the size of its dataset."
      ]
    },
    {
      "cell_type": "code",
      "execution_count": null,
      "metadata": {
        "execution": {
          "iopub.execute_input": "2023-01-27T11:05:58.021319Z",
          "iopub.status.busy": "2023-01-27T11:05:58.020365Z",
          "iopub.status.idle": "2023-01-27T11:06:00.627829Z",
          "shell.execute_reply": "2023-01-27T11:06:00.626752Z",
          "shell.execute_reply.started": "2023-01-27T11:05:58.021275Z"
        },
        "id": "t4TJmk0oKlKr",
        "outputId": "dd9635f5-29ce-4e94-e8f7-5640d49fb24a",
        "trusted": true
      },
      "outputs": [
        {
          "name": "stdout",
          "output_type": "stream",
          "text": [
            "Train size is:  36006\n",
            "Validation size is:  7201\n",
            "Test size is:  1801\n"
          ]
        }
      ],
      "source": [
        "train_dataset = CustomDataset(x_train, y_train)\n",
        "validation_dataset = CustomDataset(x_val, y_val)\n",
        "test_dataset = CustomDataset(x_test, y_test)\n",
        "\n",
        "print(\"Train size is: \", train_dataset.len())\n",
        "print(\"Validation size is: \", validation_dataset.len())\n",
        "print(\"Test size is: \", test_dataset.len())"
      ]
    },
    {
      "cell_type": "markdown",
      "metadata": {
        "id": "h1Fk_DbZaBee"
      },
      "source": [
        "Define the dimensions for our recurrent neural networks.\n",
        "\n",
        "Batch size needs to be big enough so that we avoid noise, but small enough to allow the model to be trained fast, while using less memory. This number is usually near the square root of the dataset size (for our case, the train dataset size is ca. 36000), so we define it as 256 here.\n",
        "\n",
        "Other hyperparameters are explored later using Optuna, an automatic hyperparameter optimization software framework."
      ]
    },
    {
      "cell_type": "code",
      "execution_count": null,
      "metadata": {
        "execution": {
          "iopub.execute_input": "2023-01-27T11:06:00.631176Z",
          "iopub.status.busy": "2023-01-27T11:06:00.629282Z",
          "iopub.status.idle": "2023-01-27T11:06:00.636937Z",
          "shell.execute_reply": "2023-01-27T11:06:00.635784Z",
          "shell.execute_reply.started": "2023-01-27T11:06:00.631133Z"
        },
        "id": "0WEPmpb5OLId",
        "trusted": true
      },
      "outputs": [],
      "source": [
        "input_size = vector_length\n",
        "batch_size = 256\n",
        "num_epochs = 12\n",
        "num_classes = 2"
      ]
    },
    {
      "cell_type": "markdown",
      "metadata": {
        "id": "sO9mw1Bytmf3"
      },
      "source": [
        "We define two neural network architectures, one using LSTM class from Pytorch and one using GRU class. Both archtiectures use the corresponding Pytorch class, which returns `h_n` of shape `D ∗ num_layers, N, H_out`. This output is then given as input to a fully connected linear layer in an appropriate way."
      ]
    },
    {
      "cell_type": "code",
      "execution_count": null,
      "metadata": {
        "execution": {
          "iopub.execute_input": "2023-01-27T18:00:46.175519Z",
          "iopub.status.busy": "2023-01-27T18:00:46.175164Z",
          "iopub.status.idle": "2023-01-27T18:00:46.194997Z",
          "shell.execute_reply": "2023-01-27T18:00:46.194006Z",
          "shell.execute_reply.started": "2023-01-27T18:00:46.175489Z"
        },
        "id": "OKAOyjYicoQh",
        "trusted": true
      },
      "outputs": [],
      "source": [
        "import torch.nn as nn\n",
        "from torch.nn.utils.rnn import pack_padded_sequence\n",
        "from torch.nn.utils.rnn import pad_packed_sequence\n",
        "import torch.nn.functional as F\n",
        "\n",
        "# implements attention using softmax((QK^T)/sqrt(dk))*V, as described in the tutorial given by instructors in piazza\n",
        "# input: queries, keys, values, hidden_size\n",
        "def attention(q, k, v, hidden_size):\n",
        "  attention = F.softmax(torch.bmm(q.unsqueeze(1), k.transpose(1,2))/np.sqrt(len(k)), -1)\n",
        "  return torch.bmm(attention, v).squeeze(1)\n",
        "\n",
        "class LSTM(nn.Module):\n",
        "    def __init__(self, input_size, hidden_size, num_layers, num_classes, attention = False):\n",
        "\n",
        "        super(LSTM, self).__init__()\n",
        "        self.num_layers = num_layers\n",
        "        self.hidden_size = hidden_size\n",
        "        self.attention = attention\n",
        "        self.rnn = nn.LSTM(input_size, hidden_size, num_layers, bidirectional = True, batch_first = True, dropout = 0.5)\n",
        "        self.fc = nn.Linear(hidden_size*2, num_classes)\n",
        "\n",
        "        self.fc_attention = nn.Linear(hidden_size*2, hidden_size*2)\n",
        "\n",
        "        self.embedding = nn.Embedding.from_pretrained(glove.vectors)\n",
        "        self.embedding.weight.requires_grad = True\n",
        "\n",
        "    def forward(self, x, lens):\n",
        "\n",
        "        x = self.embedding(x)\n",
        "        x = pack_padded_sequence(x, lens, batch_first = True, enforce_sorted = False)\n",
        "        self.rnn.flatten_parameters()\n",
        "\n",
        "        out, (h_n, c_n) = self.rnn(x) # LSTM also returns c_n, except from h_n\n",
        "\n",
        "        out, _ = pad_packed_sequence(out, batch_first = True)\n",
        "\n",
        "        if self.attention:\n",
        "          attention_input = attention(torch.cat((h_n[-1,:,:], h_n[-2,:,:]), dim = 1), out, out, self.hidden_size)\n",
        "          return self.fc(self.fc_attention(attention_input))\n",
        "\n",
        "        out = self.fc(torch.cat((h_n[-1,:,:], h_n[-2,:,:]), dim = 1))\n",
        "\n",
        "        return out\n",
        "\n",
        "class GRU(nn.Module):\n",
        "    def __init__(self, input_size, hidden_size, num_layers, num_classes, attention = False):\n",
        "\n",
        "        super(GRU, self).__init__()\n",
        "        self.num_layers = num_layers\n",
        "        self.hidden_size = hidden_size\n",
        "        self.attention = attention\n",
        "        self.rnn = nn.GRU(input_size, hidden_size, num_layers, bidirectional = True, batch_first = True, dropout = 0.5)\n",
        "        self.fc = nn.Linear(hidden_size*2, num_classes)\n",
        "\n",
        "        self.fc_attention = nn.Linear(hidden_size*2, hidden_size*2)\n",
        "\n",
        "        self.embedding = nn.Embedding.from_pretrained(glove.vectors)\n",
        "        self.embedding.weight.requires_grad = True\n",
        "\n",
        "    def forward(self, x, lens):\n",
        "\n",
        "        x = self.embedding(x)\n",
        "        x = pack_padded_sequence(x, lens, batch_first = True, enforce_sorted = False)\n",
        "        self.rnn.flatten_parameters()\n",
        "\n",
        "        out, h_n = self.rnn(x)\n",
        "\n",
        "        out, _ = pad_packed_sequence(out, batch_first = True)\n",
        "\n",
        "        if self.attention:\n",
        "          attention_input = attention(torch.cat((h_n[-1,:,:], h_n[-2,:,:]), dim = 1), out, out, self.hidden_size)\n",
        "          return self.fc(self.fc_attention(attention_input))\n",
        "\n",
        "        out = self.fc(torch.cat((h_n[-1,:,:], h_n[-2,:,:]), dim = 1))\n",
        "\n",
        "        return out"
      ]
    },
    {
      "cell_type": "markdown",
      "metadata": {
        "id": "Z0nmEQsfxLis"
      },
      "source": [
        "Collate function used for the dataloaders in the next step. When iterating through each dataloader, we need to fet the padded sequence, the length of the x batch data and the y data of the same batch."
      ]
    },
    {
      "cell_type": "code",
      "execution_count": null,
      "metadata": {
        "execution": {
          "iopub.execute_input": "2023-01-27T11:06:00.666791Z",
          "iopub.status.busy": "2023-01-27T11:06:00.666338Z",
          "iopub.status.idle": "2023-01-27T11:06:00.674668Z",
          "shell.execute_reply": "2023-01-27T11:06:00.673443Z",
          "shell.execute_reply.started": "2023-01-27T11:06:00.666757Z"
        },
        "id": "a-Rv0z9_GPz8",
        "trusted": true
      },
      "outputs": [],
      "source": [
        "from torch.nn.utils.rnn import pad_sequence\n",
        "\n",
        "def collate(batch):\n",
        "    (x_batch, y_batch) = zip(*batch)\n",
        "    lengths = [len(x) for x in x_batch]\n",
        "    y_batch_stacked = torch.stack(list(y_batch))\n",
        "    return (pad_sequence(x_batch, batch_first = True, padding_value = 0), lengths), y_batch_stacked.to(device)"
      ]
    },
    {
      "cell_type": "markdown",
      "metadata": {
        "id": "IUl87GW2dlMK"
      },
      "source": [
        "Create dataloaders for each set of data to use for the training, validation and evalueation of the models, later."
      ]
    },
    {
      "cell_type": "code",
      "execution_count": null,
      "metadata": {
        "execution": {
          "iopub.execute_input": "2023-01-27T11:06:00.680465Z",
          "iopub.status.busy": "2023-01-27T11:06:00.680213Z",
          "iopub.status.idle": "2023-01-27T11:06:00.686613Z",
          "shell.execute_reply": "2023-01-27T11:06:00.684791Z",
          "shell.execute_reply.started": "2023-01-27T11:06:00.680442Z"
        },
        "id": "-DYNVlODL3kk",
        "trusted": true
      },
      "outputs": [],
      "source": [
        "train_dataloader = torch.utils.data.DataLoader(dataset = train_dataset, batch_size = batch_size,\n",
        "                                               shuffle = True, collate_fn = collate)"
      ]
    },
    {
      "cell_type": "code",
      "execution_count": null,
      "metadata": {
        "execution": {
          "iopub.execute_input": "2023-01-27T11:06:00.689768Z",
          "iopub.status.busy": "2023-01-27T11:06:00.688681Z",
          "iopub.status.idle": "2023-01-27T11:06:00.695163Z",
          "shell.execute_reply": "2023-01-27T11:06:00.694161Z",
          "shell.execute_reply.started": "2023-01-27T11:06:00.689734Z"
        },
        "id": "0W37ptSvPQ_4",
        "trusted": true
      },
      "outputs": [],
      "source": [
        "validation_dataloader = torch.utils.data.DataLoader(dataset = validation_dataset, batch_size = batch_size,\n",
        "                                                    shuffle = True, collate_fn = collate)"
      ]
    },
    {
      "cell_type": "code",
      "execution_count": null,
      "metadata": {
        "execution": {
          "iopub.execute_input": "2023-01-27T11:06:00.696955Z",
          "iopub.status.busy": "2023-01-27T11:06:00.696523Z",
          "iopub.status.idle": "2023-01-27T11:06:00.704292Z",
          "shell.execute_reply": "2023-01-27T11:06:00.703179Z",
          "shell.execute_reply.started": "2023-01-27T11:06:00.696923Z"
        },
        "id": "umXTSEd0Coh0",
        "trusted": true
      },
      "outputs": [],
      "source": [
        "test_dataloader = torch.utils.data.DataLoader(dataset = test_dataset, batch_size = batch_size,\n",
        "                                              shuffle = True, collate_fn = collate)"
      ]
    },
    {
      "cell_type": "markdown",
      "metadata": {
        "id": "RBPc2vCByD_j"
      },
      "source": [
        "In order to tune the hyperparameters of each model, we will use Optuna, an automatic hyperparameter optimization software framework. We are going to tune learning rate, the hidden size of each layer and the number of hidden layers of each neural network architecture. For each parameter we provide a range of values or specific categorical values that we think are appropriate for our problem and models.\n",
        "\n",
        "Adam optimizer and the cross-entropy loss function are used, as stipulated for the exercise.\n",
        "\n",
        "The metric used to examine the best hyperparameters is the maximization of F1-score, which provides a combination of precision and recall metrics."
      ]
    },
    {
      "cell_type": "code",
      "execution_count": null,
      "metadata": {
        "execution": {
          "iopub.execute_input": "2023-01-27T12:42:23.823323Z",
          "iopub.status.busy": "2023-01-27T12:42:23.822755Z",
          "iopub.status.idle": "2023-01-27T12:42:23.834504Z",
          "shell.execute_reply": "2023-01-27T12:42:23.833302Z",
          "shell.execute_reply.started": "2023-01-27T12:42:23.823278Z"
        },
        "id": "gDaJx6W-IONr",
        "trusted": true
      },
      "outputs": [],
      "source": [
        "def objective_lstm(trial):\n",
        "\n",
        "     params = {\n",
        "              'learning_rate': trial.suggest_loguniform('learning_rate', 1e-5, 1e-3),\n",
        "              'hidden_size': trial.suggest_categorical(\"hidden_size\", [128, 256]),\n",
        "              'hidden_layers': trial.suggest_categorical(\"hidden_layers\", [2, 3])\n",
        "              }\n",
        "    \n",
        "     model = LSTM(input_size, params['hidden_size'], params['hidden_layers'], num_classes).to(device)\n",
        "\n",
        "     criterion = nn.CrossEntropyLoss()\n",
        "     optimizer = torch.optim.Adam(model.parameters(), lr = params['learning_rate'], weight_decay=0.008)\n",
        "    \n",
        "     all_train_labels, all_train_predictions, all_val_labels, all_val_predictions = train_model(model,\n",
        "                            num_epochs, train_dataloader, validation_dataloader, criterion, optimizer)\n",
        "\n",
        "     return f1_score(all_val_labels, all_val_predictions)\n",
        "\n",
        "def objective_gru(trial):\n",
        "\n",
        "     params = {\n",
        "              'learning_rate': trial.suggest_loguniform('learning_rate', 1e-5, 1e-3),\n",
        "              'hidden_size': trial.suggest_categorical(\"hidden_size\", [128, 256]),\n",
        "              'hidden_layers': trial.suggest_categorical(\"hidden_layers\", [2, 3])\n",
        "              }\n",
        "    \n",
        "     model = GRU(input_size, params['hidden_size'], params['hidden_layers'], num_classes).to(device)\n",
        "\n",
        "     criterion = nn.CrossEntropyLoss()\n",
        "     optimizer = torch.optim.Adam(model.parameters(), lr = params['learning_rate'], weight_decay=0.006)\n",
        "    \n",
        "     all_train_labels, all_train_predictions, all_val_labels, all_val_predictions = train_model(model,\n",
        "                            num_epochs, train_dataloader, validation_dataloader, criterion, optimizer)\n",
        "\n",
        "     return f1_score(all_val_labels, all_val_predictions)"
      ]
    },
    {
      "cell_type": "markdown",
      "metadata": {
        "id": "hGtH-885ef_7"
      },
      "source": [
        "The following function helps us train each of the previous defined models, export statistics about their scores and plot them."
      ]
    },
    {
      "cell_type": "code",
      "execution_count": null,
      "metadata": {
        "execution": {
          "iopub.execute_input": "2023-01-27T12:42:23.837183Z",
          "iopub.status.busy": "2023-01-27T12:42:23.836793Z",
          "iopub.status.idle": "2023-01-27T12:42:23.865654Z",
          "shell.execute_reply": "2023-01-27T12:42:23.864721Z",
          "shell.execute_reply.started": "2023-01-27T12:42:23.837148Z"
        },
        "id": "fdqUe8gkmc1W",
        "trusted": true
      },
      "outputs": [],
      "source": [
        "import torch.nn.functional as F\n",
        "from sklearn.metrics import roc_curve, auc\n",
        "from sklearn.metrics import accuracy_score, precision_score, recall_score, f1_score\n",
        "import matplotlib.pyplot as plt\n",
        "\n",
        "def train_model(model, num_epochs, train_dataloader, validation_dataloader, criterion, optimizer, plots = False):\n",
        "  train_loss = []\n",
        "  val_loss = []\n",
        "  train_accuracy = []\n",
        "  val_accuracy = []\n",
        "  train_precision = []\n",
        "  val_precision = []\n",
        "  train_recall = []\n",
        "  val_recall = []\n",
        "  train_f1 = []\n",
        "  val_f1 = []\n",
        "  for epoch in range(num_epochs):\n",
        "    for i, ((reviews, reviews_len), labels) in enumerate(train_dataloader):\n",
        "\n",
        "      # Forward pass\n",
        "      outputs = model(reviews, reviews_len)\n",
        "      loss = criterion(outputs, labels)\n",
        "\n",
        "      # Backward and optimize\n",
        "      optimizer.zero_grad()\n",
        "      loss.backward()\n",
        "      optimizer.step()\n",
        "\n",
        "    # we may want to print loss after the end each epoch\n",
        "    # print(loss.item())\n",
        "\n",
        "    # no gradients needed\n",
        "    with torch.no_grad():\n",
        "\n",
        "      # checking fit for the training set itself\n",
        "\n",
        "      all_train_labels = np.array([])\n",
        "      all_train_predictions = np.array([])\n",
        "      y_train = np.array([])\n",
        "\n",
        "      for i, ((reviews, reviews_len), labels) in enumerate(train_dataloader):\n",
        "        y_train = np.append(y_train, labels.cpu().numpy())\n",
        "        all_train_labels = np.append(all_train_labels, labels.cpu().numpy())\n",
        "        outputs = model(reviews, reviews_len)\n",
        "        \n",
        "        _, predictions = torch.max(outputs, 1)\n",
        "        all_train_predictions = np.append(all_train_predictions, predictions.cpu().numpy())\n",
        "        loss = criterion(outputs, labels)\n",
        "\n",
        "      train_loss.append(loss.item())\n",
        "      train_accuracy.append(accuracy_score(all_train_labels, all_train_predictions))\n",
        "      train_precision.append(precision_score(all_train_labels, all_train_predictions))\n",
        "      train_recall.append(recall_score(all_train_labels, all_train_predictions))\n",
        "      train_f1.append(f1_score(all_train_labels, all_train_predictions))\n",
        "\n",
        "      # checking fit for validation set\n",
        "\n",
        "      all_val_labels = np.array([])\n",
        "      all_val_predictions = np.array([])\n",
        "      y_val = np.array([])\n",
        "      all_val_outputs = np.array([])\n",
        "      losses = np.array([])\n",
        "\n",
        "      for i, ((reviews, reviews_len), labels) in enumerate(validation_dataloader):\n",
        "        y_val = np.append(y_val, labels.cpu().numpy())\n",
        "        all_val_labels = np.append(all_val_labels, labels.cpu().numpy())\n",
        "        outputs = model(reviews, reviews_len)\n",
        "        if not np.any(all_val_outputs):\n",
        "          all_val_outputs = outputs.cpu().numpy()\n",
        "        else:\n",
        "          all_val_outputs = np.concatenate((all_val_outputs, outputs.cpu().numpy()), axis=0)\n",
        "        \n",
        "        _, predictions = torch.max(outputs, 1)\n",
        "        all_val_predictions = np.append(all_val_predictions, predictions.cpu().numpy())\n",
        "        loss = criterion(outputs, labels)\n",
        "        losses = np.append(losses, loss.item())\n",
        "\n",
        "      val_loss.append(np.mean(losses))\n",
        "      val_accuracy.append(accuracy_score(all_val_labels, all_val_predictions))\n",
        "      val_precision.append(precision_score(all_val_labels, all_val_predictions))\n",
        "      val_recall.append(recall_score(all_val_labels, all_val_predictions))\n",
        "      val_f1.append(f1_score(all_val_labels, all_val_predictions))\n",
        "\n",
        "  # plots / learning curves\n",
        "  # plots may be False if we are just tuning our model and don't need these curves\n",
        "  if plots:\n",
        "    fig, axs = plt.subplots(2, 3, figsize=(15, 7))\n",
        "    fig.patch.set_facecolor('white')\n",
        "\n",
        "    axs[0, 0].plot(range(num_epochs), train_loss, label=\"train set\")\n",
        "    axs[0, 0].plot(range(num_epochs), val_loss, label=\"validation set\")\n",
        "    axs[0, 0].set_title('Cross Entropy Loss')\n",
        "    axs[0, 0].set_ylim([0.1, 0.8])\n",
        "    \n",
        "    axs[0, 1].plot(range(num_epochs), train_accuracy, label=\"train set\")\n",
        "    axs[0, 1].plot(range(num_epochs), val_accuracy, label=\"validation set\")\n",
        "    axs[0, 1].set_title('Accuracy')\n",
        "    axs[0, 1].set_ylim([0.65, 1])\n",
        "\n",
        "    axs[0, 2].plot(range(num_epochs), train_precision, label=\"train set\")\n",
        "    axs[0, 2].plot(range(num_epochs), val_precision, label=\"validation set\")\n",
        "    axs[0, 2].set_title('Precision')\n",
        "    axs[0, 2].set_ylim([0.65, 1])\n",
        "\n",
        "    axs[1, 0].plot(range(num_epochs), train_recall, label=\"train set\")\n",
        "    axs[1, 0].plot(range(num_epochs), val_recall, label=\"validation set\")\n",
        "    axs[1, 0].set_title('Recall')\n",
        "    axs[1, 0].set_ylim([0.65, 1])\n",
        "\n",
        "    axs[1, 1].plot(range(num_epochs), train_f1, label=\"train set\")\n",
        "    axs[1, 1].plot(range(num_epochs), val_f1, label=\"validation set\")\n",
        "    axs[1, 1].set_title('F1')\n",
        "    axs[1, 1].set_ylim([0.65, 1])\n",
        "\n",
        "    # roc curve\n",
        "    probabilities = F.softmax(torch.from_numpy(all_val_outputs), dim=1)[:, 1]\n",
        "    y_score = probabilities.detach().cpu().numpy()\n",
        "    # print(y_val.shape, y_score.shape)\n",
        "    nn_fpr, nn_tpr, nn_thresholds = roc_curve(y_val, y_score)\n",
        "    roc_auc = auc(nn_fpr, nn_tpr)\n",
        "\n",
        "    axs[1, 2].plot(nn_fpr,nn_tpr, label=\"validation set\")\n",
        "    axs[1, 2].set_title('ROC Curve')\n",
        "    axs[1, 2].set_ylim([0, 1])\n",
        "    axs[1, 2].set_xlim([0, 1])\n",
        "    axs[1, 2].set_ylabel('True Positive Rate')\n",
        "    axs[1, 2].set_xlabel('False Positive Rate' )\n",
        "    axs[1, 2].text(0.8, 0.2, 'AUC: '+str(round(roc_auc, 2)), horizontalalignment='center',\n",
        "                   verticalalignment='center', transform=axs[1, 2].transAxes)\n",
        "\n",
        "    axs[0][0].legend()\n",
        "    axs[0][1].legend()\n",
        "    axs[0][2].legend()\n",
        "    axs[1][0].legend()\n",
        "    axs[1][1].legend()\n",
        "    axs[1][2].legend()\n",
        "\n",
        "  return all_train_labels, all_train_predictions, all_val_labels, all_val_predictions"
      ]
    },
    {
      "cell_type": "markdown",
      "metadata": {
        "id": "BPAyEHC40fiw"
      },
      "source": [
        "Hyperparameter tuning for LSTM network, using the maximization of F1-score as metric.\n",
        "\n",
        "We also plot a diagram depicting the objective value of our metric for each trial."
      ]
    },
    {
      "cell_type": "code",
      "execution_count": null,
      "metadata": {
        "execution": {
          "iopub.execute_input": "2023-01-27T12:42:23.867643Z",
          "iopub.status.busy": "2023-01-27T12:42:23.867143Z",
          "iopub.status.idle": "2023-01-27T13:06:14.728307Z",
          "shell.execute_reply": "2023-01-27T13:06:14.727193Z",
          "shell.execute_reply.started": "2023-01-27T12:42:23.867608Z"
        },
        "id": "_PV8WKcgM6UJ",
        "outputId": "dae7d631-cc64-48fa-a406-1b5238249322",
        "trusted": true
      },
      "outputs": [
        {
          "name": "stderr",
          "output_type": "stream",
          "text": [
            "\u001b[32m[I 2023-01-27 12:42:23,878]\u001b[0m A new study created in memory with name: no-name-598d63ed-66ff-468c-94ad-a76b274a4b1c\u001b[0m\n",
            "/opt/conda/lib/python3.7/site-packages/ipykernel_launcher.py:4: FutureWarning:\n",
            "\n",
            "suggest_loguniform has been deprecated in v3.0.0. This feature will be removed in v6.0.0. See https://github.com/optuna/optuna/releases/tag/v3.0.0. Use :func:`~optuna.trial.Trial.suggest_float` instead.\n",
            "\n",
            "\u001b[32m[I 2023-01-27 12:49:01,608]\u001b[0m Trial 0 finished with value: 0.8681362725450902 and parameters: {'learning_rate': 0.0005891431173010395, 'hidden_size': 128, 'hidden_layers': 2}. Best is trial 0 with value: 0.8681362725450902.\u001b[0m\n",
            "/opt/conda/lib/python3.7/site-packages/ipykernel_launcher.py:4: FutureWarning:\n",
            "\n",
            "suggest_loguniform has been deprecated in v3.0.0. This feature will be removed in v6.0.0. See https://github.com/optuna/optuna/releases/tag/v3.0.0. Use :func:`~optuna.trial.Trial.suggest_float` instead.\n",
            "\n",
            "\u001b[32m[I 2023-01-27 12:59:20,402]\u001b[0m Trial 1 finished with value: 0.6368746486790331 and parameters: {'learning_rate': 1.0499284688738408e-05, 'hidden_size': 256, 'hidden_layers': 2}. Best is trial 0 with value: 0.8681362725450902.\u001b[0m\n",
            "/opt/conda/lib/python3.7/site-packages/ipykernel_launcher.py:4: FutureWarning:\n",
            "\n",
            "suggest_loguniform has been deprecated in v3.0.0. This feature will be removed in v6.0.0. See https://github.com/optuna/optuna/releases/tag/v3.0.0. Use :func:`~optuna.trial.Trial.suggest_float` instead.\n",
            "\n",
            "\u001b[32m[I 2023-01-27 13:06:14,714]\u001b[0m Trial 2 finished with value: 0.8468918386121698 and parameters: {'learning_rate': 0.0002093253560009258, 'hidden_size': 128, 'hidden_layers': 2}. Best is trial 0 with value: 0.8681362725450902.\u001b[0m\n"
          ]
        },
        {
          "name": "stdout",
          "output_type": "stream",
          "text": [
            "Best hyperparameters for LSTM cell:\n",
            "learning_rate: 0.0005891431173010395\n",
            "hidden_size: 128\n",
            "hidden_layers: 2\n"
          ]
        },
        {
          "data": {
            "text/html": [
              "<div>                            <div id=\"e2d7ce52-e04a-44c3-b9e7-f66a2276ef40\" class=\"plotly-graph-div\" style=\"height:525px; width:100%;\"></div>            <script type=\"text/javascript\">                require([\"plotly\"], function(Plotly) {                    window.PLOTLYENV=window.PLOTLYENV || {};                                    if (document.getElementById(\"e2d7ce52-e04a-44c3-b9e7-f66a2276ef40\")) {                    Plotly.newPlot(                        \"e2d7ce52-e04a-44c3-b9e7-f66a2276ef40\",                        [{\"mode\":\"markers\",\"name\":\"Objective Value\",\"x\":[0,1,2],\"y\":[0.8681362725450902,0.6368746486790331,0.8468918386121698],\"type\":\"scatter\"},{\"name\":\"Best Value\",\"x\":[0,1,2],\"y\":[0.8681362725450902,0.8681362725450902,0.8681362725450902],\"type\":\"scatter\"}],                        {\"title\":{\"text\":\"Optimization History Plot\"},\"xaxis\":{\"title\":{\"text\":\"Trial\"}},\"yaxis\":{\"title\":{\"text\":\"Objective Value\"}},\"template\":{\"data\":{\"histogram2dcontour\":[{\"type\":\"histogram2dcontour\",\"colorbar\":{\"outlinewidth\":0,\"ticks\":\"\"},\"colorscale\":[[0.0,\"#0d0887\"],[0.1111111111111111,\"#46039f\"],[0.2222222222222222,\"#7201a8\"],[0.3333333333333333,\"#9c179e\"],[0.4444444444444444,\"#bd3786\"],[0.5555555555555556,\"#d8576b\"],[0.6666666666666666,\"#ed7953\"],[0.7777777777777778,\"#fb9f3a\"],[0.8888888888888888,\"#fdca26\"],[1.0,\"#f0f921\"]]}],\"choropleth\":[{\"type\":\"choropleth\",\"colorbar\":{\"outlinewidth\":0,\"ticks\":\"\"}}],\"histogram2d\":[{\"type\":\"histogram2d\",\"colorbar\":{\"outlinewidth\":0,\"ticks\":\"\"},\"colorscale\":[[0.0,\"#0d0887\"],[0.1111111111111111,\"#46039f\"],[0.2222222222222222,\"#7201a8\"],[0.3333333333333333,\"#9c179e\"],[0.4444444444444444,\"#bd3786\"],[0.5555555555555556,\"#d8576b\"],[0.6666666666666666,\"#ed7953\"],[0.7777777777777778,\"#fb9f3a\"],[0.8888888888888888,\"#fdca26\"],[1.0,\"#f0f921\"]]}],\"heatmap\":[{\"type\":\"heatmap\",\"colorbar\":{\"outlinewidth\":0,\"ticks\":\"\"},\"colorscale\":[[0.0,\"#0d0887\"],[0.1111111111111111,\"#46039f\"],[0.2222222222222222,\"#7201a8\"],[0.3333333333333333,\"#9c179e\"],[0.4444444444444444,\"#bd3786\"],[0.5555555555555556,\"#d8576b\"],[0.6666666666666666,\"#ed7953\"],[0.7777777777777778,\"#fb9f3a\"],[0.8888888888888888,\"#fdca26\"],[1.0,\"#f0f921\"]]}],\"heatmapgl\":[{\"type\":\"heatmapgl\",\"colorbar\":{\"outlinewidth\":0,\"ticks\":\"\"},\"colorscale\":[[0.0,\"#0d0887\"],[0.1111111111111111,\"#46039f\"],[0.2222222222222222,\"#7201a8\"],[0.3333333333333333,\"#9c179e\"],[0.4444444444444444,\"#bd3786\"],[0.5555555555555556,\"#d8576b\"],[0.6666666666666666,\"#ed7953\"],[0.7777777777777778,\"#fb9f3a\"],[0.8888888888888888,\"#fdca26\"],[1.0,\"#f0f921\"]]}],\"contourcarpet\":[{\"type\":\"contourcarpet\",\"colorbar\":{\"outlinewidth\":0,\"ticks\":\"\"}}],\"contour\":[{\"type\":\"contour\",\"colorbar\":{\"outlinewidth\":0,\"ticks\":\"\"},\"colorscale\":[[0.0,\"#0d0887\"],[0.1111111111111111,\"#46039f\"],[0.2222222222222222,\"#7201a8\"],[0.3333333333333333,\"#9c179e\"],[0.4444444444444444,\"#bd3786\"],[0.5555555555555556,\"#d8576b\"],[0.6666666666666666,\"#ed7953\"],[0.7777777777777778,\"#fb9f3a\"],[0.8888888888888888,\"#fdca26\"],[1.0,\"#f0f921\"]]}],\"surface\":[{\"type\":\"surface\",\"colorbar\":{\"outlinewidth\":0,\"ticks\":\"\"},\"colorscale\":[[0.0,\"#0d0887\"],[0.1111111111111111,\"#46039f\"],[0.2222222222222222,\"#7201a8\"],[0.3333333333333333,\"#9c179e\"],[0.4444444444444444,\"#bd3786\"],[0.5555555555555556,\"#d8576b\"],[0.6666666666666666,\"#ed7953\"],[0.7777777777777778,\"#fb9f3a\"],[0.8888888888888888,\"#fdca26\"],[1.0,\"#f0f921\"]]}],\"mesh3d\":[{\"type\":\"mesh3d\",\"colorbar\":{\"outlinewidth\":0,\"ticks\":\"\"}}],\"scatter\":[{\"fillpattern\":{\"fillmode\":\"overlay\",\"size\":10,\"solidity\":0.2},\"type\":\"scatter\"}],\"parcoords\":[{\"type\":\"parcoords\",\"line\":{\"colorbar\":{\"outlinewidth\":0,\"ticks\":\"\"}}}],\"scatterpolargl\":[{\"type\":\"scatterpolargl\",\"marker\":{\"colorbar\":{\"outlinewidth\":0,\"ticks\":\"\"}}}],\"bar\":[{\"error_x\":{\"color\":\"#2a3f5f\"},\"error_y\":{\"color\":\"#2a3f5f\"},\"marker\":{\"line\":{\"color\":\"#E5ECF6\",\"width\":0.5},\"pattern\":{\"fillmode\":\"overlay\",\"size\":10,\"solidity\":0.2}},\"type\":\"bar\"}],\"scattergeo\":[{\"type\":\"scattergeo\",\"marker\":{\"colorbar\":{\"outlinewidth\":0,\"ticks\":\"\"}}}],\"scatterpolar\":[{\"type\":\"scatterpolar\",\"marker\":{\"colorbar\":{\"outlinewidth\":0,\"ticks\":\"\"}}}],\"histogram\":[{\"marker\":{\"pattern\":{\"fillmode\":\"overlay\",\"size\":10,\"solidity\":0.2}},\"type\":\"histogram\"}],\"scattergl\":[{\"type\":\"scattergl\",\"marker\":{\"colorbar\":{\"outlinewidth\":0,\"ticks\":\"\"}}}],\"scatter3d\":[{\"type\":\"scatter3d\",\"line\":{\"colorbar\":{\"outlinewidth\":0,\"ticks\":\"\"}},\"marker\":{\"colorbar\":{\"outlinewidth\":0,\"ticks\":\"\"}}}],\"scattermapbox\":[{\"type\":\"scattermapbox\",\"marker\":{\"colorbar\":{\"outlinewidth\":0,\"ticks\":\"\"}}}],\"scatterternary\":[{\"type\":\"scatterternary\",\"marker\":{\"colorbar\":{\"outlinewidth\":0,\"ticks\":\"\"}}}],\"scattercarpet\":[{\"type\":\"scattercarpet\",\"marker\":{\"colorbar\":{\"outlinewidth\":0,\"ticks\":\"\"}}}],\"carpet\":[{\"aaxis\":{\"endlinecolor\":\"#2a3f5f\",\"gridcolor\":\"white\",\"linecolor\":\"white\",\"minorgridcolor\":\"white\",\"startlinecolor\":\"#2a3f5f\"},\"baxis\":{\"endlinecolor\":\"#2a3f5f\",\"gridcolor\":\"white\",\"linecolor\":\"white\",\"minorgridcolor\":\"white\",\"startlinecolor\":\"#2a3f5f\"},\"type\":\"carpet\"}],\"table\":[{\"cells\":{\"fill\":{\"color\":\"#EBF0F8\"},\"line\":{\"color\":\"white\"}},\"header\":{\"fill\":{\"color\":\"#C8D4E3\"},\"line\":{\"color\":\"white\"}},\"type\":\"table\"}],\"barpolar\":[{\"marker\":{\"line\":{\"color\":\"#E5ECF6\",\"width\":0.5},\"pattern\":{\"fillmode\":\"overlay\",\"size\":10,\"solidity\":0.2}},\"type\":\"barpolar\"}],\"pie\":[{\"automargin\":true,\"type\":\"pie\"}]},\"layout\":{\"autotypenumbers\":\"strict\",\"colorway\":[\"#636efa\",\"#EF553B\",\"#00cc96\",\"#ab63fa\",\"#FFA15A\",\"#19d3f3\",\"#FF6692\",\"#B6E880\",\"#FF97FF\",\"#FECB52\"],\"font\":{\"color\":\"#2a3f5f\"},\"hovermode\":\"closest\",\"hoverlabel\":{\"align\":\"left\"},\"paper_bgcolor\":\"white\",\"plot_bgcolor\":\"#E5ECF6\",\"polar\":{\"bgcolor\":\"#E5ECF6\",\"angularaxis\":{\"gridcolor\":\"white\",\"linecolor\":\"white\",\"ticks\":\"\"},\"radialaxis\":{\"gridcolor\":\"white\",\"linecolor\":\"white\",\"ticks\":\"\"}},\"ternary\":{\"bgcolor\":\"#E5ECF6\",\"aaxis\":{\"gridcolor\":\"white\",\"linecolor\":\"white\",\"ticks\":\"\"},\"baxis\":{\"gridcolor\":\"white\",\"linecolor\":\"white\",\"ticks\":\"\"},\"caxis\":{\"gridcolor\":\"white\",\"linecolor\":\"white\",\"ticks\":\"\"}},\"coloraxis\":{\"colorbar\":{\"outlinewidth\":0,\"ticks\":\"\"}},\"colorscale\":{\"sequential\":[[0.0,\"#0d0887\"],[0.1111111111111111,\"#46039f\"],[0.2222222222222222,\"#7201a8\"],[0.3333333333333333,\"#9c179e\"],[0.4444444444444444,\"#bd3786\"],[0.5555555555555556,\"#d8576b\"],[0.6666666666666666,\"#ed7953\"],[0.7777777777777778,\"#fb9f3a\"],[0.8888888888888888,\"#fdca26\"],[1.0,\"#f0f921\"]],\"sequentialminus\":[[0.0,\"#0d0887\"],[0.1111111111111111,\"#46039f\"],[0.2222222222222222,\"#7201a8\"],[0.3333333333333333,\"#9c179e\"],[0.4444444444444444,\"#bd3786\"],[0.5555555555555556,\"#d8576b\"],[0.6666666666666666,\"#ed7953\"],[0.7777777777777778,\"#fb9f3a\"],[0.8888888888888888,\"#fdca26\"],[1.0,\"#f0f921\"]],\"diverging\":[[0,\"#8e0152\"],[0.1,\"#c51b7d\"],[0.2,\"#de77ae\"],[0.3,\"#f1b6da\"],[0.4,\"#fde0ef\"],[0.5,\"#f7f7f7\"],[0.6,\"#e6f5d0\"],[0.7,\"#b8e186\"],[0.8,\"#7fbc41\"],[0.9,\"#4d9221\"],[1,\"#276419\"]]},\"xaxis\":{\"gridcolor\":\"white\",\"linecolor\":\"white\",\"ticks\":\"\",\"title\":{\"standoff\":15},\"zerolinecolor\":\"white\",\"automargin\":true,\"zerolinewidth\":2},\"yaxis\":{\"gridcolor\":\"white\",\"linecolor\":\"white\",\"ticks\":\"\",\"title\":{\"standoff\":15},\"zerolinecolor\":\"white\",\"automargin\":true,\"zerolinewidth\":2},\"scene\":{\"xaxis\":{\"backgroundcolor\":\"#E5ECF6\",\"gridcolor\":\"white\",\"linecolor\":\"white\",\"showbackground\":true,\"ticks\":\"\",\"zerolinecolor\":\"white\",\"gridwidth\":2},\"yaxis\":{\"backgroundcolor\":\"#E5ECF6\",\"gridcolor\":\"white\",\"linecolor\":\"white\",\"showbackground\":true,\"ticks\":\"\",\"zerolinecolor\":\"white\",\"gridwidth\":2},\"zaxis\":{\"backgroundcolor\":\"#E5ECF6\",\"gridcolor\":\"white\",\"linecolor\":\"white\",\"showbackground\":true,\"ticks\":\"\",\"zerolinecolor\":\"white\",\"gridwidth\":2}},\"shapedefaults\":{\"line\":{\"color\":\"#2a3f5f\"}},\"annotationdefaults\":{\"arrowcolor\":\"#2a3f5f\",\"arrowhead\":0,\"arrowwidth\":1},\"geo\":{\"bgcolor\":\"white\",\"landcolor\":\"#E5ECF6\",\"subunitcolor\":\"white\",\"showland\":true,\"showlakes\":true,\"lakecolor\":\"white\"},\"title\":{\"x\":0.05},\"mapbox\":{\"style\":\"light\"}}}},                        {\"responsive\": true}                    ).then(function(){\n",
              "                            \n",
              "var gd = document.getElementById('e2d7ce52-e04a-44c3-b9e7-f66a2276ef40');\n",
              "var x = new MutationObserver(function (mutations, observer) {{\n",
              "        var display = window.getComputedStyle(gd).display;\n",
              "        if (!display || display === 'none') {{\n",
              "            console.log([gd, 'removed!']);\n",
              "            Plotly.purge(gd);\n",
              "            observer.disconnect();\n",
              "        }}\n",
              "}});\n",
              "\n",
              "// Listen for the removal of the full notebook cells\n",
              "var notebookContainer = gd.closest('#notebook-container');\n",
              "if (notebookContainer) {{\n",
              "    x.observe(notebookContainer, {childList: true});\n",
              "}}\n",
              "\n",
              "// Listen for the clearing of the current output cell\n",
              "var outputEl = gd.closest('.output');\n",
              "if (outputEl) {{\n",
              "    x.observe(outputEl, {childList: true});\n",
              "}}\n",
              "\n",
              "                        })                };                });            </script>        </div>"
            ]
          },
          "metadata": {},
          "output_type": "display_data"
        }
      ],
      "source": [
        "study = optuna.create_study(direction = \"maximize\", sampler = optuna.samplers.TPESampler())\n",
        "study.optimize(objective_lstm, n_trials = 3)\n",
        "\n",
        "best_trial_lstm = study.best_trial\n",
        "\n",
        "print(\"Best hyperparameters for LSTM cell:\")\n",
        "for key, value in best_trial_lstm.params.items():\n",
        "  print(\"{}: {}\".format(key, value))\n",
        "\n",
        "optuna.visualization.plot_optimization_history(study)"
      ]
    },
    {
      "cell_type": "markdown",
      "metadata": {
        "id": "Sr7XcjXK07LY"
      },
      "source": [
        "Train LSTM network using the best hyperparameters found before using Optuna and get a classification report for both training and validation sets. Then, by examining whether the scores for these sets are close to each other or not, we can determine if the model overfits or underfits. This can also be seen in the plots following these statistics, where the training and validation curves remain very close to each other with a very small generalization gap, showing that no overfitting or underfitting occurs in our model."
      ]
    },
    {
      "cell_type": "code",
      "execution_count": null,
      "metadata": {
        "execution": {
          "iopub.execute_input": "2023-01-27T13:06:14.732246Z",
          "iopub.status.busy": "2023-01-27T13:06:14.731035Z",
          "iopub.status.idle": "2023-01-27T13:13:00.571715Z",
          "shell.execute_reply": "2023-01-27T13:13:00.570803Z",
          "shell.execute_reply.started": "2023-01-27T13:06:14.732204Z"
        },
        "id": "3QsWRLXpQY0o",
        "outputId": "d36835e1-f0ca-48d4-e64c-8d05d25e3165",
        "trusted": true
      },
      "outputs": [
        {
          "name": "stdout",
          "output_type": "stream",
          "text": [
            "Train set:\n",
            "               precision    recall  f1-score   support\n",
            "\n",
            "         0.0       0.90      0.90      0.90     17950\n",
            "         1.0       0.90      0.90      0.90     18056\n",
            "\n",
            "    accuracy                           0.90     36006\n",
            "   macro avg       0.90      0.90      0.90     36006\n",
            "weighted avg       0.90      0.90      0.90     36006\n",
            "\n",
            "Validation set:\n",
            "               precision    recall  f1-score   support\n",
            "\n",
            "         0.0       0.88      0.86      0.87      3628\n",
            "         1.0       0.86      0.88      0.87      3573\n",
            "\n",
            "    accuracy                           0.87      7201\n",
            "   macro avg       0.87      0.87      0.87      7201\n",
            "weighted avg       0.87      0.87      0.87      7201\n",
            "\n"
          ]
        },
        {
          "data": {
            "image/png": "[encoded data removed]",
            "text/plain": [
              "<Figure size 1080x504 with 6 Axes>"
            ]
          },
          "metadata": {},
          "output_type": "display_data"
        }
      ],
      "source": [
        "from sklearn.metrics import classification_report\n",
        "\n",
        "model_lstm = LSTM(input_size, best_trial_lstm.params['hidden_size'], best_trial_lstm.params['hidden_layers'],\n",
        "                  num_classes).to(device)\n",
        "\n",
        "criterion = nn.CrossEntropyLoss()\n",
        "optimizer = torch.optim.Adam(model_lstm.parameters(), lr = best_trial_lstm.params['learning_rate'], weight_decay = 0.008) \n",
        "\n",
        "model_lstm.train()\n",
        "y_train, train_outputs, y_val, val_outputs = train_model(model_lstm, num_epochs, train_dataloader, validation_dataloader,\n",
        "                                                         criterion, optimizer, plots = True)\n",
        "\n",
        "print(\"Train set:\\n\", classification_report(y_train, train_outputs))\n",
        "print(\"Validation set:\\n\", classification_report(y_val, val_outputs))"
      ]
    },
    {
      "cell_type": "markdown",
      "metadata": {
        "id": "Qd7dEfv1EzGp"
      },
      "source": [
        "Also save this trained model for later use."
      ]
    },
    {
      "cell_type": "code",
      "execution_count": null,
      "metadata": {
        "execution": {
          "iopub.execute_input": "2023-01-27T13:13:00.573967Z",
          "iopub.status.busy": "2023-01-27T13:13:00.573305Z",
          "iopub.status.idle": "2023-01-27T13:13:00.646269Z",
          "shell.execute_reply": "2023-01-27T13:13:00.645151Z",
          "shell.execute_reply.started": "2023-01-27T13:13:00.573930Z"
        },
        "id": "GPIydDRnEKWB",
        "outputId": "c47fcf23-f027-4d1a-b983-d1ad45238ae8",
        "trusted": true
      },
      "outputs": [
        {
          "data": {
            "text/plain": [
              "<All keys matched successfully>"
            ]
          },
          "execution_count": 47,
          "metadata": {},
          "output_type": "execute_result"
        }
      ],
      "source": [
        "# torch.save(model_lstm.state_dict(), \"model_lstm\")\n",
        "model_lstm = LSTM(input_size, best_trial_lstm.params['hidden_size'], best_trial_lstm.params['hidden_layers'],\n",
        "                  num_classes).to(device)\n",
        "model_lstm.load_state_dict(torch.load(\"model_lstm\"))"
      ]
    },
    {
      "cell_type": "markdown",
      "metadata": {
        "id": "KN2lprkG1fJO"
      },
      "source": [
        "Evaluation of our model using the test set created in the beginning of this notebook. Contrary to the validation set, this test set has not been used anywhere so far, so it contains representative random samples that the model has never seen before."
      ]
    },
    {
      "cell_type": "code",
      "execution_count": null,
      "metadata": {
        "execution": {
          "iopub.execute_input": "2023-01-27T13:13:00.648428Z",
          "iopub.status.busy": "2023-01-27T13:13:00.648046Z",
          "iopub.status.idle": "2023-01-27T13:13:01.099001Z",
          "shell.execute_reply": "2023-01-27T13:13:01.098026Z",
          "shell.execute_reply.started": "2023-01-27T13:13:00.648392Z"
        },
        "id": "cgoVE-Zy5j9O",
        "outputId": "83e08f36-faa1-4fd8-8fef-97845e2cc852",
        "trusted": true
      },
      "outputs": [
        {
          "name": "stdout",
          "output_type": "stream",
          "text": [
            "Test set:\n",
            "               precision    recall  f1-score   support\n",
            "\n",
            "         0.0       0.90      0.88      0.89       922\n",
            "         1.0       0.88      0.90      0.89       879\n",
            "\n",
            "    accuracy                           0.89      1801\n",
            "   macro avg       0.89      0.89      0.89      1801\n",
            "weighted avg       0.89      0.89      0.89      1801\n",
            "\n"
          ]
        }
      ],
      "source": [
        "all_test_labels = np.array([])\n",
        "all_test_predictions = np.array([])\n",
        "\n",
        "model_lstm.eval()\n",
        "\n",
        "with torch.no_grad():\n",
        "  for i, ((reviews, review_len), labels) in enumerate(test_dataloader):\n",
        "    all_test_labels = np.append(all_test_labels, labels.cpu().numpy())\n",
        "    outputs = model_lstm(reviews, review_len)\n",
        "\n",
        "    _, predictions = torch.max(outputs, 1)\n",
        "    all_test_predictions = np.append(all_test_predictions, predictions.cpu().numpy())\n",
        "\n",
        "print(\"Test set:\\n\", classification_report(all_test_labels, all_test_predictions))"
      ]
    },
    {
      "cell_type": "markdown",
      "metadata": {
        "id": "KcoVUMek04C2"
      },
      "source": [
        "Hyperparameter tuning for GRU network, using the maximization of F1-score as metric.\n",
        "\n",
        "We also plot a diagram depicting the objective value of our metric for each trial."
      ]
    },
    {
      "cell_type": "code",
      "execution_count": null,
      "metadata": {
        "execution": {
          "iopub.execute_input": "2023-01-27T13:13:01.101052Z",
          "iopub.status.busy": "2023-01-27T13:13:01.100452Z",
          "iopub.status.idle": "2023-01-27T13:49:21.061361Z",
          "shell.execute_reply": "2023-01-27T13:49:21.060435Z",
          "shell.execute_reply.started": "2023-01-27T13:13:01.101003Z"
        },
        "id": "G6WdPiJE1GwZ",
        "outputId": "ec0f16f0-a2a9-45a6-c2f5-8fd19a0bd5b9",
        "trusted": true
      },
      "outputs": [
        {
          "name": "stderr",
          "output_type": "stream",
          "text": [
            "\u001b[32m[I 2023-01-27 13:13:01,105]\u001b[0m A new study created in memory with name: no-name-8a8b91c4-fa07-4e5e-832e-327c22af51f8\u001b[0m\n",
            "/opt/conda/lib/python3.7/site-packages/ipykernel_launcher.py:22: FutureWarning:\n",
            "\n",
            "suggest_loguniform has been deprecated in v3.0.0. This feature will be removed in v6.0.0. See https://github.com/optuna/optuna/releases/tag/v3.0.0. Use :func:`~optuna.trial.Trial.suggest_float` instead.\n",
            "\n",
            "\u001b[32m[I 2023-01-27 13:21:58,557]\u001b[0m Trial 0 finished with value: 0.8227546588202326 and parameters: {'learning_rate': 5.791962907945106e-05, 'hidden_size': 256, 'hidden_layers': 2}. Best is trial 0 with value: 0.8227546588202326.\u001b[0m\n",
            "/opt/conda/lib/python3.7/site-packages/ipykernel_launcher.py:22: FutureWarning:\n",
            "\n",
            "suggest_loguniform has been deprecated in v3.0.0. This feature will be removed in v6.0.0. See https://github.com/optuna/optuna/releases/tag/v3.0.0. Use :func:`~optuna.trial.Trial.suggest_float` instead.\n",
            "\n",
            "\u001b[32m[I 2023-01-27 13:35:39,109]\u001b[0m Trial 1 finished with value: 0.8649173955296404 and parameters: {'learning_rate': 0.0007161670980022938, 'hidden_size': 256, 'hidden_layers': 3}. Best is trial 1 with value: 0.8649173955296404.\u001b[0m\n",
            "/opt/conda/lib/python3.7/site-packages/ipykernel_launcher.py:22: FutureWarning:\n",
            "\n",
            "suggest_loguniform has been deprecated in v3.0.0. This feature will be removed in v6.0.0. See https://github.com/optuna/optuna/releases/tag/v3.0.0. Use :func:`~optuna.trial.Trial.suggest_float` instead.\n",
            "\n",
            "\u001b[32m[I 2023-01-27 13:49:21,040]\u001b[0m Trial 2 finished with value: 0.8227882037533513 and parameters: {'learning_rate': 2.9804578117177097e-05, 'hidden_size': 256, 'hidden_layers': 3}. Best is trial 1 with value: 0.8649173955296404.\u001b[0m\n"
          ]
        },
        {
          "name": "stdout",
          "output_type": "stream",
          "text": [
            "Best hyperparameters for GRU cell:\n",
            "learning_rate: 0.0007161670980022938\n",
            "hidden_size: 256\n",
            "hidden_layers: 3\n"
          ]
        },
        {
          "data": {
            "text/html": [
              "<div>                            <div id=\"50a0384a-ce0e-4b3e-bc04-3dc96af99f6b\" class=\"plotly-graph-div\" style=\"height:525px; width:100%;\"></div>            <script type=\"text/javascript\">                require([\"plotly\"], function(Plotly) {                    window.PLOTLYENV=window.PLOTLYENV || {};                                    if (document.getElementById(\"50a0384a-ce0e-4b3e-bc04-3dc96af99f6b\")) {                    Plotly.newPlot(                        \"50a0384a-ce0e-4b3e-bc04-3dc96af99f6b\",                        [{\"mode\":\"markers\",\"name\":\"Objective Value\",\"x\":[0,1,2],\"y\":[0.8227546588202326,0.8649173955296404,0.8227882037533513],\"type\":\"scatter\"},{\"name\":\"Best Value\",\"x\":[0,1,2],\"y\":[0.8227546588202326,0.8649173955296404,0.8649173955296404],\"type\":\"scatter\"}],                        {\"title\":{\"text\":\"Optimization History Plot\"},\"xaxis\":{\"title\":{\"text\":\"Trial\"}},\"yaxis\":{\"title\":{\"text\":\"Objective Value\"}},\"template\":{\"data\":{\"histogram2dcontour\":[{\"type\":\"histogram2dcontour\",\"colorbar\":{\"outlinewidth\":0,\"ticks\":\"\"},\"colorscale\":[[0.0,\"#0d0887\"],[0.1111111111111111,\"#46039f\"],[0.2222222222222222,\"#7201a8\"],[0.3333333333333333,\"#9c179e\"],[0.4444444444444444,\"#bd3786\"],[0.5555555555555556,\"#d8576b\"],[0.6666666666666666,\"#ed7953\"],[0.7777777777777778,\"#fb9f3a\"],[0.8888888888888888,\"#fdca26\"],[1.0,\"#f0f921\"]]}],\"choropleth\":[{\"type\":\"choropleth\",\"colorbar\":{\"outlinewidth\":0,\"ticks\":\"\"}}],\"histogram2d\":[{\"type\":\"histogram2d\",\"colorbar\":{\"outlinewidth\":0,\"ticks\":\"\"},\"colorscale\":[[0.0,\"#0d0887\"],[0.1111111111111111,\"#46039f\"],[0.2222222222222222,\"#7201a8\"],[0.3333333333333333,\"#9c179e\"],[0.4444444444444444,\"#bd3786\"],[0.5555555555555556,\"#d8576b\"],[0.6666666666666666,\"#ed7953\"],[0.7777777777777778,\"#fb9f3a\"],[0.8888888888888888,\"#fdca26\"],[1.0,\"#f0f921\"]]}],\"heatmap\":[{\"type\":\"heatmap\",\"colorbar\":{\"outlinewidth\":0,\"ticks\":\"\"},\"colorscale\":[[0.0,\"#0d0887\"],[0.1111111111111111,\"#46039f\"],[0.2222222222222222,\"#7201a8\"],[0.3333333333333333,\"#9c179e\"],[0.4444444444444444,\"#bd3786\"],[0.5555555555555556,\"#d8576b\"],[0.6666666666666666,\"#ed7953\"],[0.7777777777777778,\"#fb9f3a\"],[0.8888888888888888,\"#fdca26\"],[1.0,\"#f0f921\"]]}],\"heatmapgl\":[{\"type\":\"heatmapgl\",\"colorbar\":{\"outlinewidth\":0,\"ticks\":\"\"},\"colorscale\":[[0.0,\"#0d0887\"],[0.1111111111111111,\"#46039f\"],[0.2222222222222222,\"#7201a8\"],[0.3333333333333333,\"#9c179e\"],[0.4444444444444444,\"#bd3786\"],[0.5555555555555556,\"#d8576b\"],[0.6666666666666666,\"#ed7953\"],[0.7777777777777778,\"#fb9f3a\"],[0.8888888888888888,\"#fdca26\"],[1.0,\"#f0f921\"]]}],\"contourcarpet\":[{\"type\":\"contourcarpet\",\"colorbar\":{\"outlinewidth\":0,\"ticks\":\"\"}}],\"contour\":[{\"type\":\"contour\",\"colorbar\":{\"outlinewidth\":0,\"ticks\":\"\"},\"colorscale\":[[0.0,\"#0d0887\"],[0.1111111111111111,\"#46039f\"],[0.2222222222222222,\"#7201a8\"],[0.3333333333333333,\"#9c179e\"],[0.4444444444444444,\"#bd3786\"],[0.5555555555555556,\"#d8576b\"],[0.6666666666666666,\"#ed7953\"],[0.7777777777777778,\"#fb9f3a\"],[0.8888888888888888,\"#fdca26\"],[1.0,\"#f0f921\"]]}],\"surface\":[{\"type\":\"surface\",\"colorbar\":{\"outlinewidth\":0,\"ticks\":\"\"},\"colorscale\":[[0.0,\"#0d0887\"],[0.1111111111111111,\"#46039f\"],[0.2222222222222222,\"#7201a8\"],[0.3333333333333333,\"#9c179e\"],[0.4444444444444444,\"#bd3786\"],[0.5555555555555556,\"#d8576b\"],[0.6666666666666666,\"#ed7953\"],[0.7777777777777778,\"#fb9f3a\"],[0.8888888888888888,\"#fdca26\"],[1.0,\"#f0f921\"]]}],\"mesh3d\":[{\"type\":\"mesh3d\",\"colorbar\":{\"outlinewidth\":0,\"ticks\":\"\"}}],\"scatter\":[{\"fillpattern\":{\"fillmode\":\"overlay\",\"size\":10,\"solidity\":0.2},\"type\":\"scatter\"}],\"parcoords\":[{\"type\":\"parcoords\",\"line\":{\"colorbar\":{\"outlinewidth\":0,\"ticks\":\"\"}}}],\"scatterpolargl\":[{\"type\":\"scatterpolargl\",\"marker\":{\"colorbar\":{\"outlinewidth\":0,\"ticks\":\"\"}}}],\"bar\":[{\"error_x\":{\"color\":\"#2a3f5f\"},\"error_y\":{\"color\":\"#2a3f5f\"},\"marker\":{\"line\":{\"color\":\"#E5ECF6\",\"width\":0.5},\"pattern\":{\"fillmode\":\"overlay\",\"size\":10,\"solidity\":0.2}},\"type\":\"bar\"}],\"scattergeo\":[{\"type\":\"scattergeo\",\"marker\":{\"colorbar\":{\"outlinewidth\":0,\"ticks\":\"\"}}}],\"scatterpolar\":[{\"type\":\"scatterpolar\",\"marker\":{\"colorbar\":{\"outlinewidth\":0,\"ticks\":\"\"}}}],\"histogram\":[{\"marker\":{\"pattern\":{\"fillmode\":\"overlay\",\"size\":10,\"solidity\":0.2}},\"type\":\"histogram\"}],\"scattergl\":[{\"type\":\"scattergl\",\"marker\":{\"colorbar\":{\"outlinewidth\":0,\"ticks\":\"\"}}}],\"scatter3d\":[{\"type\":\"scatter3d\",\"line\":{\"colorbar\":{\"outlinewidth\":0,\"ticks\":\"\"}},\"marker\":{\"colorbar\":{\"outlinewidth\":0,\"ticks\":\"\"}}}],\"scattermapbox\":[{\"type\":\"scattermapbox\",\"marker\":{\"colorbar\":{\"outlinewidth\":0,\"ticks\":\"\"}}}],\"scatterternary\":[{\"type\":\"scatterternary\",\"marker\":{\"colorbar\":{\"outlinewidth\":0,\"ticks\":\"\"}}}],\"scattercarpet\":[{\"type\":\"scattercarpet\",\"marker\":{\"colorbar\":{\"outlinewidth\":0,\"ticks\":\"\"}}}],\"carpet\":[{\"aaxis\":{\"endlinecolor\":\"#2a3f5f\",\"gridcolor\":\"white\",\"linecolor\":\"white\",\"minorgridcolor\":\"white\",\"startlinecolor\":\"#2a3f5f\"},\"baxis\":{\"endlinecolor\":\"#2a3f5f\",\"gridcolor\":\"white\",\"linecolor\":\"white\",\"minorgridcolor\":\"white\",\"startlinecolor\":\"#2a3f5f\"},\"type\":\"carpet\"}],\"table\":[{\"cells\":{\"fill\":{\"color\":\"#EBF0F8\"},\"line\":{\"color\":\"white\"}},\"header\":{\"fill\":{\"color\":\"#C8D4E3\"},\"line\":{\"color\":\"white\"}},\"type\":\"table\"}],\"barpolar\":[{\"marker\":{\"line\":{\"color\":\"#E5ECF6\",\"width\":0.5},\"pattern\":{\"fillmode\":\"overlay\",\"size\":10,\"solidity\":0.2}},\"type\":\"barpolar\"}],\"pie\":[{\"automargin\":true,\"type\":\"pie\"}]},\"layout\":{\"autotypenumbers\":\"strict\",\"colorway\":[\"#636efa\",\"#EF553B\",\"#00cc96\",\"#ab63fa\",\"#FFA15A\",\"#19d3f3\",\"#FF6692\",\"#B6E880\",\"#FF97FF\",\"#FECB52\"],\"font\":{\"color\":\"#2a3f5f\"},\"hovermode\":\"closest\",\"hoverlabel\":{\"align\":\"left\"},\"paper_bgcolor\":\"white\",\"plot_bgcolor\":\"#E5ECF6\",\"polar\":{\"bgcolor\":\"#E5ECF6\",\"angularaxis\":{\"gridcolor\":\"white\",\"linecolor\":\"white\",\"ticks\":\"\"},\"radialaxis\":{\"gridcolor\":\"white\",\"linecolor\":\"white\",\"ticks\":\"\"}},\"ternary\":{\"bgcolor\":\"#E5ECF6\",\"aaxis\":{\"gridcolor\":\"white\",\"linecolor\":\"white\",\"ticks\":\"\"},\"baxis\":{\"gridcolor\":\"white\",\"linecolor\":\"white\",\"ticks\":\"\"},\"caxis\":{\"gridcolor\":\"white\",\"linecolor\":\"white\",\"ticks\":\"\"}},\"coloraxis\":{\"colorbar\":{\"outlinewidth\":0,\"ticks\":\"\"}},\"colorscale\":{\"sequential\":[[0.0,\"#0d0887\"],[0.1111111111111111,\"#46039f\"],[0.2222222222222222,\"#7201a8\"],[0.3333333333333333,\"#9c179e\"],[0.4444444444444444,\"#bd3786\"],[0.5555555555555556,\"#d8576b\"],[0.6666666666666666,\"#ed7953\"],[0.7777777777777778,\"#fb9f3a\"],[0.8888888888888888,\"#fdca26\"],[1.0,\"#f0f921\"]],\"sequentialminus\":[[0.0,\"#0d0887\"],[0.1111111111111111,\"#46039f\"],[0.2222222222222222,\"#7201a8\"],[0.3333333333333333,\"#9c179e\"],[0.4444444444444444,\"#bd3786\"],[0.5555555555555556,\"#d8576b\"],[0.6666666666666666,\"#ed7953\"],[0.7777777777777778,\"#fb9f3a\"],[0.8888888888888888,\"#fdca26\"],[1.0,\"#f0f921\"]],\"diverging\":[[0,\"#8e0152\"],[0.1,\"#c51b7d\"],[0.2,\"#de77ae\"],[0.3,\"#f1b6da\"],[0.4,\"#fde0ef\"],[0.5,\"#f7f7f7\"],[0.6,\"#e6f5d0\"],[0.7,\"#b8e186\"],[0.8,\"#7fbc41\"],[0.9,\"#4d9221\"],[1,\"#276419\"]]},\"xaxis\":{\"gridcolor\":\"white\",\"linecolor\":\"white\",\"ticks\":\"\",\"title\":{\"standoff\":15},\"zerolinecolor\":\"white\",\"automargin\":true,\"zerolinewidth\":2},\"yaxis\":{\"gridcolor\":\"white\",\"linecolor\":\"white\",\"ticks\":\"\",\"title\":{\"standoff\":15},\"zerolinecolor\":\"white\",\"automargin\":true,\"zerolinewidth\":2},\"scene\":{\"xaxis\":{\"backgroundcolor\":\"#E5ECF6\",\"gridcolor\":\"white\",\"linecolor\":\"white\",\"showbackground\":true,\"ticks\":\"\",\"zerolinecolor\":\"white\",\"gridwidth\":2},\"yaxis\":{\"backgroundcolor\":\"#E5ECF6\",\"gridcolor\":\"white\",\"linecolor\":\"white\",\"showbackground\":true,\"ticks\":\"\",\"zerolinecolor\":\"white\",\"gridwidth\":2},\"zaxis\":{\"backgroundcolor\":\"#E5ECF6\",\"gridcolor\":\"white\",\"linecolor\":\"white\",\"showbackground\":true,\"ticks\":\"\",\"zerolinecolor\":\"white\",\"gridwidth\":2}},\"shapedefaults\":{\"line\":{\"color\":\"#2a3f5f\"}},\"annotationdefaults\":{\"arrowcolor\":\"#2a3f5f\",\"arrowhead\":0,\"arrowwidth\":1},\"geo\":{\"bgcolor\":\"white\",\"landcolor\":\"#E5ECF6\",\"subunitcolor\":\"white\",\"showland\":true,\"showlakes\":true,\"lakecolor\":\"white\"},\"title\":{\"x\":0.05},\"mapbox\":{\"style\":\"light\"}}}},                        {\"responsive\": true}                    ).then(function(){\n",
              "                            \n",
              "var gd = document.getElementById('50a0384a-ce0e-4b3e-bc04-3dc96af99f6b');\n",
              "var x = new MutationObserver(function (mutations, observer) {{\n",
              "        var display = window.getComputedStyle(gd).display;\n",
              "        if (!display || display === 'none') {{\n",
              "            console.log([gd, 'removed!']);\n",
              "            Plotly.purge(gd);\n",
              "            observer.disconnect();\n",
              "        }}\n",
              "}});\n",
              "\n",
              "// Listen for the removal of the full notebook cells\n",
              "var notebookContainer = gd.closest('#notebook-container');\n",
              "if (notebookContainer) {{\n",
              "    x.observe(notebookContainer, {childList: true});\n",
              "}}\n",
              "\n",
              "// Listen for the clearing of the current output cell\n",
              "var outputEl = gd.closest('.output');\n",
              "if (outputEl) {{\n",
              "    x.observe(outputEl, {childList: true});\n",
              "}}\n",
              "\n",
              "                        })                };                });            </script>        </div>"
            ]
          },
          "metadata": {},
          "output_type": "display_data"
        }
      ],
      "source": [
        "study = optuna.create_study(direction = \"maximize\", sampler=optuna.samplers.TPESampler())\n",
        "study.optimize(objective_gru, n_trials = 3)\n",
        "\n",
        "best_trial_gru = study.best_trial\n",
        "\n",
        "print(\"Best hyperparameters for GRU cell:\")\n",
        "for key, value in best_trial_gru.params.items():\n",
        "  print(\"{}: {}\".format(key, value))\n",
        "\n",
        "optuna.visualization.plot_optimization_history(study)"
      ]
    },
    {
      "cell_type": "markdown",
      "metadata": {
        "id": "8lGt0uWg1YEZ"
      },
      "source": [
        "Train GRU network using the best hyperparameters found before using Optuna and get a classification report for both training and validation sets. Then, by examining whether the scores for these sets are close to each other or not, we can determine if the model overfits or underfits. This can also be seen in the plots following these statistics, where the training and validation curves remain very close to each other with a very small generalization gap, showing that no overfitting or underfitting occurs in our model."
      ]
    },
    {
      "cell_type": "code",
      "execution_count": null,
      "metadata": {
        "execution": {
          "iopub.execute_input": "2023-01-27T13:49:21.067935Z",
          "iopub.status.busy": "2023-01-27T13:49:21.065386Z",
          "iopub.status.idle": "2023-01-27T14:03:02.228504Z",
          "shell.execute_reply": "2023-01-27T14:03:02.227421Z",
          "shell.execute_reply.started": "2023-01-27T13:49:21.067896Z"
        },
        "id": "h2c0f9t80jFf",
        "outputId": "17b10b39-811b-4a8d-eb93-446a6dc79bbf",
        "trusted": true
      },
      "outputs": [
        {
          "name": "stdout",
          "output_type": "stream",
          "text": [
            "Train set:\n",
            "               precision    recall  f1-score   support\n",
            "\n",
            "         0.0       0.91      0.89      0.90     17950\n",
            "         1.0       0.89      0.91      0.90     18056\n",
            "\n",
            "    accuracy                           0.90     36006\n",
            "   macro avg       0.90      0.90      0.90     36006\n",
            "weighted avg       0.90      0.90      0.90     36006\n",
            "\n",
            "Validation set:\n",
            "               precision    recall  f1-score   support\n",
            "\n",
            "         0.0       0.88      0.85      0.87      3628\n",
            "         1.0       0.85      0.88      0.87      3573\n",
            "\n",
            "    accuracy                           0.87      7201\n",
            "   macro avg       0.87      0.87      0.87      7201\n",
            "weighted avg       0.87      0.87      0.87      7201\n",
            "\n"
          ]
        },
        {
          "data": {
            "image/png": "[encoded data removed]",
            "text/plain": [
              "<Figure size 1080x504 with 6 Axes>"
            ]
          },
          "metadata": {},
          "output_type": "display_data"
        }
      ],
      "source": [
        "from sklearn.metrics import classification_report\n",
        "\n",
        "model_gru = GRU(input_size, best_trial_gru.params['hidden_size'], best_trial_gru.params['hidden_layers'],\n",
        "                num_classes).to(device)\n",
        "\n",
        "criterion = nn.CrossEntropyLoss()\n",
        "optimizer = torch.optim.Adam(model_gru.parameters(), lr = best_trial_gru.params['learning_rate'], weight_decay = 0.006) \n",
        "\n",
        "model_gru.train()\n",
        "y_train, train_outputs, y_val, val_outputs = train_model(model_gru, num_epochs, train_dataloader, validation_dataloader,\n",
        "                                                         criterion, optimizer, plots = True)\n",
        "\n",
        "print(\"Train set:\\n\", classification_report(y_train, train_outputs))\n",
        "print(\"Validation set:\\n\", classification_report(y_val, val_outputs))"
      ]
    },
    {
      "cell_type": "markdown",
      "metadata": {
        "id": "Q-7nLJpiFAU4"
      },
      "source": [
        "Also save this trained model for later use."
      ]
    },
    {
      "cell_type": "code",
      "execution_count": null,
      "metadata": {
        "execution": {
          "iopub.execute_input": "2023-01-27T14:03:02.232446Z",
          "iopub.status.busy": "2023-01-27T14:03:02.232071Z",
          "iopub.status.idle": "2023-01-27T14:03:02.349862Z",
          "shell.execute_reply": "2023-01-27T14:03:02.348923Z",
          "shell.execute_reply.started": "2023-01-27T14:03:02.232409Z"
        },
        "id": "D5WqdlP-FAU4",
        "outputId": "a5ef460a-84db-456b-b8cc-80748c6ced7b",
        "trusted": true
      },
      "outputs": [
        {
          "data": {
            "text/plain": [
              "<All keys matched successfully>"
            ]
          },
          "execution_count": 51,
          "metadata": {},
          "output_type": "execute_result"
        }
      ],
      "source": [
        "# torch.save(model_gru.state_dict(), \"model_gru\")\n",
        "model_gru = GRU(input_size, best_trial_gru.params['hidden_size'], best_trial_gru.params['hidden_layers'],\n",
        "                num_classes).to(device)\n",
        "model_gru.load_state_dict(torch.load(\"model_gru\"))"
      ]
    },
    {
      "cell_type": "markdown",
      "metadata": {
        "id": "o6LDPZGp93VZ"
      },
      "source": [
        "Evaluation of our model using the test set created in the beginning of this notebook. Contrary to the validation set, this test set has not been used anywhere so far, so it contains representative random samples that the model has never seen before."
      ]
    },
    {
      "cell_type": "code",
      "execution_count": null,
      "metadata": {
        "execution": {
          "iopub.execute_input": "2023-01-27T14:03:02.351692Z",
          "iopub.status.busy": "2023-01-27T14:03:02.351338Z",
          "iopub.status.idle": "2023-01-27T14:03:03.096338Z",
          "shell.execute_reply": "2023-01-27T14:03:03.095331Z",
          "shell.execute_reply.started": "2023-01-27T14:03:02.351664Z"
        },
        "id": "X0EcA2Z_5nAB",
        "outputId": "38ef85d6-bf48-4b3d-9bf4-8adec3a8e7cf",
        "trusted": true
      },
      "outputs": [
        {
          "name": "stdout",
          "output_type": "stream",
          "text": [
            "Test set:\n",
            "               precision    recall  f1-score   support\n",
            "\n",
            "         0.0       0.89      0.86      0.88       922\n",
            "         1.0       0.86      0.89      0.88       879\n",
            "\n",
            "    accuracy                           0.88      1801\n",
            "   macro avg       0.88      0.88      0.88      1801\n",
            "weighted avg       0.88      0.88      0.88      1801\n",
            "\n"
          ]
        }
      ],
      "source": [
        "all_test_labels = np.array([])\n",
        "all_test_predictions = np.array([])\n",
        "\n",
        "model_gru.eval()\n",
        "\n",
        "with torch.no_grad():\n",
        "  for i, ((reviews, review_len), labels) in enumerate(test_dataloader):\n",
        "    all_test_labels = np.append(all_test_labels, labels.cpu().numpy())\n",
        "    outputs = model_gru(reviews, review_len)\n",
        "\n",
        "    _, predictions = torch.max(outputs, 1)\n",
        "    all_test_predictions = np.append(all_test_predictions, predictions.cpu().numpy())\n",
        "\n",
        "print(\"Test set:\\n\", classification_report(all_test_labels, all_test_predictions))"
      ]
    },
    {
      "cell_type": "markdown",
      "metadata": {
        "id": "qeK0_T9Z_1bf"
      },
      "source": [
        "Comparing the evaluation of our previous two models on the test, it seems that the RNN using the GRU cell performs almost equally well to the LSTM one, while also being simpler and thus being trained faster. Let's try to improve it even more, by utilizing the mechanism of attention. To achieve this, we tune it again using Optuna by defining a new objective that calls GRU with `attention = True`, and we also pass `attention=True` when defining our model later for training. Our implementation takes care of the rest."
      ]
    },
    {
      "cell_type": "code",
      "execution_count": null,
      "metadata": {
        "execution": {
          "iopub.execute_input": "2023-01-27T18:01:15.289023Z",
          "iopub.status.busy": "2023-01-27T18:01:15.288021Z",
          "iopub.status.idle": "2023-01-27T18:01:15.297503Z",
          "shell.execute_reply": "2023-01-27T18:01:15.296362Z",
          "shell.execute_reply.started": "2023-01-27T18:01:15.288987Z"
        },
        "id": "9sbutwTvCDzY",
        "trusted": true
      },
      "outputs": [],
      "source": [
        "def objective_gru_attention(trial):\n",
        "\n",
        "     params = {\n",
        "              'learning_rate': trial.suggest_loguniform('learning_rate', 1e-5, 1e-3),\n",
        "              'hidden_size': trial.suggest_categorical(\"hidden_size\", [128, 256]),\n",
        "              'hidden_layers': trial.suggest_categorical(\"hidden_layers\", [2, 3])\n",
        "              }\n",
        "    \n",
        "     model = GRU(input_size, params['hidden_size'], params['hidden_layers'], num_classes, attention = True).to(device)\n",
        "\n",
        "     criterion = nn.CrossEntropyLoss()\n",
        "     optimizer = torch.optim.Adam(model.parameters(), lr = params['learning_rate'], weight_decay=0.0005)\n",
        "    \n",
        "     all_train_labels, all_train_predictions, all_val_labels, all_val_predictions = train_model(model, num_epochs,\n",
        "                                                    train_dataloader, validation_dataloader, criterion, optimizer)\n",
        "\n",
        "     return f1_score(all_val_labels, all_val_predictions)"
      ]
    },
    {
      "cell_type": "code",
      "execution_count": null,
      "metadata": {
        "colab": {
          "referenced_widgets": [
            "4d9548c3ba95432db4af64a67321a7ae"
          ]
        },
        "execution": {
          "iopub.execute_input": "2023-01-27T18:01:17.452541Z",
          "iopub.status.busy": "2023-01-27T18:01:17.452165Z",
          "iopub.status.idle": "2023-01-27T19:07:41.883887Z",
          "shell.execute_reply": "2023-01-27T19:07:41.882997Z",
          "shell.execute_reply.started": "2023-01-27T18:01:17.452502Z"
        },
        "id": "6xXQ32w3BT6_",
        "outputId": "bfccd3ef-b575-41f9-c421-71d085715a5b",
        "trusted": true
      },
      "outputs": [
        {
          "name": "stderr",
          "output_type": "stream",
          "text": [
            "\u001b[32m[I 2023-01-27 18:01:17,455]\u001b[0m A new study created in memory with name: no-name-4997428f-743c-42d8-a1f2-df9cd5484614\u001b[0m\n",
            "/opt/conda/lib/python3.7/site-packages/optuna/progress_bar.py:56: ExperimentalWarning:\n",
            "\n",
            "Progress bar is experimental (supported from v1.2.0). The interface can change in the future.\n",
            "\n"
          ]
        },
        {
          "data": {
            "application/vnd.jupyter.widget-view+json": {
              "model_id": "4d9548c3ba95432db4af64a67321a7ae",
              "version_major": 2,
              "version_minor": 0
            },
            "text/plain": [
              "  0%|          | 0/3 [00:00<?, ?it/s]"
            ]
          },
          "metadata": {},
          "output_type": "display_data"
        },
        {
          "name": "stderr",
          "output_type": "stream",
          "text": [
            "/opt/conda/lib/python3.7/site-packages/ipykernel_launcher.py:4: FutureWarning:\n",
            "\n",
            "suggest_loguniform has been deprecated in v3.0.0. This feature will be removed in v6.0.0. See https://github.com/optuna/optuna/releases/tag/v3.0.0. Use :func:`~optuna.trial.Trial.suggest_float` instead.\n",
            "\n"
          ]
        },
        {
          "name": "stdout",
          "output_type": "stream",
          "text": [
            "\u001b[32m[I 2023-01-27 18:26:34,390]\u001b[0m Trial 0 finished with value: 0.847558260353273 and parameters: {'learning_rate': 0.00042548551292115376, 'hidden_size': 256, 'hidden_layers': 3}. Best is trial 0 with value: 0.847558260353273.\u001b[0m\n"
          ]
        },
        {
          "name": "stderr",
          "output_type": "stream",
          "text": [
            "/opt/conda/lib/python3.7/site-packages/ipykernel_launcher.py:4: FutureWarning:\n",
            "\n",
            "suggest_loguniform has been deprecated in v3.0.0. This feature will be removed in v6.0.0. See https://github.com/optuna/optuna/releases/tag/v3.0.0. Use :func:`~optuna.trial.Trial.suggest_float` instead.\n",
            "\n"
          ]
        },
        {
          "name": "stdout",
          "output_type": "stream",
          "text": [
            "\u001b[32m[I 2023-01-27 18:47:08,306]\u001b[0m Trial 1 finished with value: 0.8548977103373526 and parameters: {'learning_rate': 4.30899056961226e-05, 'hidden_size': 256, 'hidden_layers': 2}. Best is trial 1 with value: 0.8548977103373526.\u001b[0m\n"
          ]
        },
        {
          "name": "stderr",
          "output_type": "stream",
          "text": [
            "/opt/conda/lib/python3.7/site-packages/ipykernel_launcher.py:4: FutureWarning:\n",
            "\n",
            "suggest_loguniform has been deprecated in v3.0.0. This feature will be removed in v6.0.0. See https://github.com/optuna/optuna/releases/tag/v3.0.0. Use :func:`~optuna.trial.Trial.suggest_float` instead.\n",
            "\n"
          ]
        },
        {
          "name": "stdout",
          "output_type": "stream",
          "text": [
            "\u001b[32m[I 2023-01-27 19:07:41,860]\u001b[0m Trial 2 finished with value: 0.8608423061196675 and parameters: {'learning_rate': 4.812317702679991e-05, 'hidden_size': 256, 'hidden_layers': 2}. Best is trial 2 with value: 0.8608423061196675.\u001b[0m\n",
            "Best hyperparameters for GRU cell:\n",
            "learning_rate: 4.812317702679991e-05\n",
            "hidden_size: 256\n",
            "hidden_layers: 2\n"
          ]
        },
        {
          "data": {
            "text/html": [
              "<div>                            <div id=\"7662f7df-3452-4b15-8f36-feea41100228\" class=\"plotly-graph-div\" style=\"height:525px; width:100%;\"></div>            <script type=\"text/javascript\">                require([\"plotly\"], function(Plotly) {                    window.PLOTLYENV=window.PLOTLYENV || {};                                    if (document.getElementById(\"7662f7df-3452-4b15-8f36-feea41100228\")) {                    Plotly.newPlot(                        \"7662f7df-3452-4b15-8f36-feea41100228\",                        [{\"mode\":\"markers\",\"name\":\"Objective Value\",\"x\":[0,1,2],\"y\":[0.847558260353273,0.8548977103373526,0.8608423061196675],\"type\":\"scatter\"},{\"name\":\"Best Value\",\"x\":[0,1,2],\"y\":[0.847558260353273,0.8548977103373526,0.8608423061196675],\"type\":\"scatter\"}],                        {\"title\":{\"text\":\"Optimization History Plot\"},\"xaxis\":{\"title\":{\"text\":\"Trial\"}},\"yaxis\":{\"title\":{\"text\":\"Objective Value\"}},\"template\":{\"data\":{\"histogram2dcontour\":[{\"type\":\"histogram2dcontour\",\"colorbar\":{\"outlinewidth\":0,\"ticks\":\"\"},\"colorscale\":[[0.0,\"#0d0887\"],[0.1111111111111111,\"#46039f\"],[0.2222222222222222,\"#7201a8\"],[0.3333333333333333,\"#9c179e\"],[0.4444444444444444,\"#bd3786\"],[0.5555555555555556,\"#d8576b\"],[0.6666666666666666,\"#ed7953\"],[0.7777777777777778,\"#fb9f3a\"],[0.8888888888888888,\"#fdca26\"],[1.0,\"#f0f921\"]]}],\"choropleth\":[{\"type\":\"choropleth\",\"colorbar\":{\"outlinewidth\":0,\"ticks\":\"\"}}],\"histogram2d\":[{\"type\":\"histogram2d\",\"colorbar\":{\"outlinewidth\":0,\"ticks\":\"\"},\"colorscale\":[[0.0,\"#0d0887\"],[0.1111111111111111,\"#46039f\"],[0.2222222222222222,\"#7201a8\"],[0.3333333333333333,\"#9c179e\"],[0.4444444444444444,\"#bd3786\"],[0.5555555555555556,\"#d8576b\"],[0.6666666666666666,\"#ed7953\"],[0.7777777777777778,\"#fb9f3a\"],[0.8888888888888888,\"#fdca26\"],[1.0,\"#f0f921\"]]}],\"heatmap\":[{\"type\":\"heatmap\",\"colorbar\":{\"outlinewidth\":0,\"ticks\":\"\"},\"colorscale\":[[0.0,\"#0d0887\"],[0.1111111111111111,\"#46039f\"],[0.2222222222222222,\"#7201a8\"],[0.3333333333333333,\"#9c179e\"],[0.4444444444444444,\"#bd3786\"],[0.5555555555555556,\"#d8576b\"],[0.6666666666666666,\"#ed7953\"],[0.7777777777777778,\"#fb9f3a\"],[0.8888888888888888,\"#fdca26\"],[1.0,\"#f0f921\"]]}],\"heatmapgl\":[{\"type\":\"heatmapgl\",\"colorbar\":{\"outlinewidth\":0,\"ticks\":\"\"},\"colorscale\":[[0.0,\"#0d0887\"],[0.1111111111111111,\"#46039f\"],[0.2222222222222222,\"#7201a8\"],[0.3333333333333333,\"#9c179e\"],[0.4444444444444444,\"#bd3786\"],[0.5555555555555556,\"#d8576b\"],[0.6666666666666666,\"#ed7953\"],[0.7777777777777778,\"#fb9f3a\"],[0.8888888888888888,\"#fdca26\"],[1.0,\"#f0f921\"]]}],\"contourcarpet\":[{\"type\":\"contourcarpet\",\"colorbar\":{\"outlinewidth\":0,\"ticks\":\"\"}}],\"contour\":[{\"type\":\"contour\",\"colorbar\":{\"outlinewidth\":0,\"ticks\":\"\"},\"colorscale\":[[0.0,\"#0d0887\"],[0.1111111111111111,\"#46039f\"],[0.2222222222222222,\"#7201a8\"],[0.3333333333333333,\"#9c179e\"],[0.4444444444444444,\"#bd3786\"],[0.5555555555555556,\"#d8576b\"],[0.6666666666666666,\"#ed7953\"],[0.7777777777777778,\"#fb9f3a\"],[0.8888888888888888,\"#fdca26\"],[1.0,\"#f0f921\"]]}],\"surface\":[{\"type\":\"surface\",\"colorbar\":{\"outlinewidth\":0,\"ticks\":\"\"},\"colorscale\":[[0.0,\"#0d0887\"],[0.1111111111111111,\"#46039f\"],[0.2222222222222222,\"#7201a8\"],[0.3333333333333333,\"#9c179e\"],[0.4444444444444444,\"#bd3786\"],[0.5555555555555556,\"#d8576b\"],[0.6666666666666666,\"#ed7953\"],[0.7777777777777778,\"#fb9f3a\"],[0.8888888888888888,\"#fdca26\"],[1.0,\"#f0f921\"]]}],\"mesh3d\":[{\"type\":\"mesh3d\",\"colorbar\":{\"outlinewidth\":0,\"ticks\":\"\"}}],\"scatter\":[{\"fillpattern\":{\"fillmode\":\"overlay\",\"size\":10,\"solidity\":0.2},\"type\":\"scatter\"}],\"parcoords\":[{\"type\":\"parcoords\",\"line\":{\"colorbar\":{\"outlinewidth\":0,\"ticks\":\"\"}}}],\"scatterpolargl\":[{\"type\":\"scatterpolargl\",\"marker\":{\"colorbar\":{\"outlinewidth\":0,\"ticks\":\"\"}}}],\"bar\":[{\"error_x\":{\"color\":\"#2a3f5f\"},\"error_y\":{\"color\":\"#2a3f5f\"},\"marker\":{\"line\":{\"color\":\"#E5ECF6\",\"width\":0.5},\"pattern\":{\"fillmode\":\"overlay\",\"size\":10,\"solidity\":0.2}},\"type\":\"bar\"}],\"scattergeo\":[{\"type\":\"scattergeo\",\"marker\":{\"colorbar\":{\"outlinewidth\":0,\"ticks\":\"\"}}}],\"scatterpolar\":[{\"type\":\"scatterpolar\",\"marker\":{\"colorbar\":{\"outlinewidth\":0,\"ticks\":\"\"}}}],\"histogram\":[{\"marker\":{\"pattern\":{\"fillmode\":\"overlay\",\"size\":10,\"solidity\":0.2}},\"type\":\"histogram\"}],\"scattergl\":[{\"type\":\"scattergl\",\"marker\":{\"colorbar\":{\"outlinewidth\":0,\"ticks\":\"\"}}}],\"scatter3d\":[{\"type\":\"scatter3d\",\"line\":{\"colorbar\":{\"outlinewidth\":0,\"ticks\":\"\"}},\"marker\":{\"colorbar\":{\"outlinewidth\":0,\"ticks\":\"\"}}}],\"scattermapbox\":[{\"type\":\"scattermapbox\",\"marker\":{\"colorbar\":{\"outlinewidth\":0,\"ticks\":\"\"}}}],\"scatterternary\":[{\"type\":\"scatterternary\",\"marker\":{\"colorbar\":{\"outlinewidth\":0,\"ticks\":\"\"}}}],\"scattercarpet\":[{\"type\":\"scattercarpet\",\"marker\":{\"colorbar\":{\"outlinewidth\":0,\"ticks\":\"\"}}}],\"carpet\":[{\"aaxis\":{\"endlinecolor\":\"#2a3f5f\",\"gridcolor\":\"white\",\"linecolor\":\"white\",\"minorgridcolor\":\"white\",\"startlinecolor\":\"#2a3f5f\"},\"baxis\":{\"endlinecolor\":\"#2a3f5f\",\"gridcolor\":\"white\",\"linecolor\":\"white\",\"minorgridcolor\":\"white\",\"startlinecolor\":\"#2a3f5f\"},\"type\":\"carpet\"}],\"table\":[{\"cells\":{\"fill\":{\"color\":\"#EBF0F8\"},\"line\":{\"color\":\"white\"}},\"header\":{\"fill\":{\"color\":\"#C8D4E3\"},\"line\":{\"color\":\"white\"}},\"type\":\"table\"}],\"barpolar\":[{\"marker\":{\"line\":{\"color\":\"#E5ECF6\",\"width\":0.5},\"pattern\":{\"fillmode\":\"overlay\",\"size\":10,\"solidity\":0.2}},\"type\":\"barpolar\"}],\"pie\":[{\"automargin\":true,\"type\":\"pie\"}]},\"layout\":{\"autotypenumbers\":\"strict\",\"colorway\":[\"#636efa\",\"#EF553B\",\"#00cc96\",\"#ab63fa\",\"#FFA15A\",\"#19d3f3\",\"#FF6692\",\"#B6E880\",\"#FF97FF\",\"#FECB52\"],\"font\":{\"color\":\"#2a3f5f\"},\"hovermode\":\"closest\",\"hoverlabel\":{\"align\":\"left\"},\"paper_bgcolor\":\"white\",\"plot_bgcolor\":\"#E5ECF6\",\"polar\":{\"bgcolor\":\"#E5ECF6\",\"angularaxis\":{\"gridcolor\":\"white\",\"linecolor\":\"white\",\"ticks\":\"\"},\"radialaxis\":{\"gridcolor\":\"white\",\"linecolor\":\"white\",\"ticks\":\"\"}},\"ternary\":{\"bgcolor\":\"#E5ECF6\",\"aaxis\":{\"gridcolor\":\"white\",\"linecolor\":\"white\",\"ticks\":\"\"},\"baxis\":{\"gridcolor\":\"white\",\"linecolor\":\"white\",\"ticks\":\"\"},\"caxis\":{\"gridcolor\":\"white\",\"linecolor\":\"white\",\"ticks\":\"\"}},\"coloraxis\":{\"colorbar\":{\"outlinewidth\":0,\"ticks\":\"\"}},\"colorscale\":{\"sequential\":[[0.0,\"#0d0887\"],[0.1111111111111111,\"#46039f\"],[0.2222222222222222,\"#7201a8\"],[0.3333333333333333,\"#9c179e\"],[0.4444444444444444,\"#bd3786\"],[0.5555555555555556,\"#d8576b\"],[0.6666666666666666,\"#ed7953\"],[0.7777777777777778,\"#fb9f3a\"],[0.8888888888888888,\"#fdca26\"],[1.0,\"#f0f921\"]],\"sequentialminus\":[[0.0,\"#0d0887\"],[0.1111111111111111,\"#46039f\"],[0.2222222222222222,\"#7201a8\"],[0.3333333333333333,\"#9c179e\"],[0.4444444444444444,\"#bd3786\"],[0.5555555555555556,\"#d8576b\"],[0.6666666666666666,\"#ed7953\"],[0.7777777777777778,\"#fb9f3a\"],[0.8888888888888888,\"#fdca26\"],[1.0,\"#f0f921\"]],\"diverging\":[[0,\"#8e0152\"],[0.1,\"#c51b7d\"],[0.2,\"#de77ae\"],[0.3,\"#f1b6da\"],[0.4,\"#fde0ef\"],[0.5,\"#f7f7f7\"],[0.6,\"#e6f5d0\"],[0.7,\"#b8e186\"],[0.8,\"#7fbc41\"],[0.9,\"#4d9221\"],[1,\"#276419\"]]},\"xaxis\":{\"gridcolor\":\"white\",\"linecolor\":\"white\",\"ticks\":\"\",\"title\":{\"standoff\":15},\"zerolinecolor\":\"white\",\"automargin\":true,\"zerolinewidth\":2},\"yaxis\":{\"gridcolor\":\"white\",\"linecolor\":\"white\",\"ticks\":\"\",\"title\":{\"standoff\":15},\"zerolinecolor\":\"white\",\"automargin\":true,\"zerolinewidth\":2},\"scene\":{\"xaxis\":{\"backgroundcolor\":\"#E5ECF6\",\"gridcolor\":\"white\",\"linecolor\":\"white\",\"showbackground\":true,\"ticks\":\"\",\"zerolinecolor\":\"white\",\"gridwidth\":2},\"yaxis\":{\"backgroundcolor\":\"#E5ECF6\",\"gridcolor\":\"white\",\"linecolor\":\"white\",\"showbackground\":true,\"ticks\":\"\",\"zerolinecolor\":\"white\",\"gridwidth\":2},\"zaxis\":{\"backgroundcolor\":\"#E5ECF6\",\"gridcolor\":\"white\",\"linecolor\":\"white\",\"showbackground\":true,\"ticks\":\"\",\"zerolinecolor\":\"white\",\"gridwidth\":2}},\"shapedefaults\":{\"line\":{\"color\":\"#2a3f5f\"}},\"annotationdefaults\":{\"arrowcolor\":\"#2a3f5f\",\"arrowhead\":0,\"arrowwidth\":1},\"geo\":{\"bgcolor\":\"white\",\"landcolor\":\"#E5ECF6\",\"subunitcolor\":\"white\",\"showland\":true,\"showlakes\":true,\"lakecolor\":\"white\"},\"title\":{\"x\":0.05},\"mapbox\":{\"style\":\"light\"}}}},                        {\"responsive\": true}                    ).then(function(){\n",
              "                            \n",
              "var gd = document.getElementById('7662f7df-3452-4b15-8f36-feea41100228');\n",
              "var x = new MutationObserver(function (mutations, observer) {{\n",
              "        var display = window.getComputedStyle(gd).display;\n",
              "        if (!display || display === 'none') {{\n",
              "            console.log([gd, 'removed!']);\n",
              "            Plotly.purge(gd);\n",
              "            observer.disconnect();\n",
              "        }}\n",
              "}});\n",
              "\n",
              "// Listen for the removal of the full notebook cells\n",
              "var notebookContainer = gd.closest('#notebook-container');\n",
              "if (notebookContainer) {{\n",
              "    x.observe(notebookContainer, {childList: true});\n",
              "}}\n",
              "\n",
              "// Listen for the clearing of the current output cell\n",
              "var outputEl = gd.closest('.output');\n",
              "if (outputEl) {{\n",
              "    x.observe(outputEl, {childList: true});\n",
              "}}\n",
              "\n",
              "                        })                };                });            </script>        </div>"
            ]
          },
          "metadata": {},
          "output_type": "display_data"
        }
      ],
      "source": [
        "study = optuna.create_study(direction = \"maximize\", sampler=optuna.samplers.TPESampler())\n",
        "study.optimize(objective_gru_attention, n_trials = 3, show_progress_bar=True)\n",
        "\n",
        "best_trial_gru_attention = study.best_trial\n",
        "\n",
        "print(\"Best hyperparameters for GRU cell:\")\n",
        "for key, value in best_trial_gru_attention.params.items():\n",
        "  print(\"{}: {}\".format(key, value))\n",
        "\n",
        "optuna.visualization.plot_optimization_history(study)"
      ]
    },
    {
      "cell_type": "code",
      "execution_count": null,
      "metadata": {
        "execution": {
          "iopub.execute_input": "2023-01-27T19:07:41.887106Z",
          "iopub.status.busy": "2023-01-27T19:07:41.886436Z",
          "iopub.status.idle": "2023-01-27T19:28:16.293910Z",
          "shell.execute_reply": "2023-01-27T19:28:16.292825Z",
          "shell.execute_reply.started": "2023-01-27T19:07:41.887068Z"
        },
        "id": "IWSxC11uQ-Ox",
        "outputId": "7c085680-576f-4948-844f-9ee589257f59",
        "trusted": true
      },
      "outputs": [
        {
          "name": "stdout",
          "output_type": "stream",
          "text": [
            "Train set:\n",
            "               precision    recall  f1-score   support\n",
            "\n",
            "         0.0       0.87      0.86      0.87     17950\n",
            "         1.0       0.86      0.88      0.87     18056\n",
            "\n",
            "    accuracy                           0.87     36006\n",
            "   macro avg       0.87      0.87      0.87     36006\n",
            "weighted avg       0.87      0.87      0.87     36006\n",
            "\n",
            "Validation set:\n",
            "               precision    recall  f1-score   support\n",
            "\n",
            "         0.0       0.87      0.83      0.85      3628\n",
            "         1.0       0.84      0.88      0.86      3573\n",
            "\n",
            "    accuracy                           0.85      7201\n",
            "   macro avg       0.86      0.85      0.85      7201\n",
            "weighted avg       0.86      0.85      0.85      7201\n",
            "\n"
          ]
        },
        {
          "data": {
            "image/png": "[encoded data removed]",
            "text/plain": [
              "<Figure size 1080x504 with 6 Axes>"
            ]
          },
          "metadata": {},
          "output_type": "display_data"
        }
      ],
      "source": [
        "from sklearn.metrics import classification_report\n",
        "\n",
        "model_gru_attention = GRU(input_size, best_trial_gru_attention.params['hidden_size'],\n",
        "                          best_trial_gru_attention.params['hidden_layers'], num_classes, attention = True).to(device)\n",
        "\n",
        "criterion = nn.CrossEntropyLoss()\n",
        "optimizer = torch.optim.Adam(model_gru_attention.parameters(), lr = best_trial_gru_attention.params['learning_rate'],\n",
        "                             weight_decay = 0.0005) \n",
        "\n",
        "model_gru_attention.train()\n",
        "y_train, train_outputs, y_val, val_outputs = train_model(model_gru_attention, num_epochs, train_dataloader,\n",
        "                                                         validation_dataloader, criterion, optimizer, plots = True)\n",
        "\n",
        "print(\"Train set:\\n\", classification_report(y_train, train_outputs))\n",
        "print(\"Validation set:\\n\", classification_report(y_val, val_outputs))"
      ]
    },
    {
      "cell_type": "markdown",
      "metadata": {
        "id": "TgD6sFJtFHa7"
      },
      "source": [
        "Also save this trained model for later use."
      ]
    },
    {
      "cell_type": "code",
      "execution_count": null,
      "metadata": {
        "execution": {
          "iopub.execute_input": "2023-01-27T19:28:16.296204Z",
          "iopub.status.busy": "2023-01-27T19:28:16.295545Z",
          "iopub.status.idle": "2023-01-27T19:28:16.387892Z",
          "shell.execute_reply": "2023-01-27T19:28:16.386986Z",
          "shell.execute_reply.started": "2023-01-27T19:28:16.296166Z"
        },
        "id": "irraLDJIFHa8",
        "outputId": "a57507fe-7288-48b6-e1bc-41f47b6ebcee",
        "trusted": true
      },
      "outputs": [
        {
          "data": {
            "text/plain": [
              "<All keys matched successfully>"
            ]
          },
          "execution_count": 88,
          "metadata": {},
          "output_type": "execute_result"
        }
      ],
      "source": [
        "# torch.save(model_gru_attention.state_dict(), \"model_gru_attention\")\n",
        "model_gru_attention = GRU(input_size, best_trial_gru_attention.params['hidden_size'],\n",
        "                          best_trial_gru_attention.params['hidden_layers'], num_classes, attention = True).to(device)\n",
        "model_gru_attention.load_state_dict(torch.load(\"model_gru_attention\"))"
      ]
    },
    {
      "cell_type": "markdown",
      "metadata": {
        "id": "5S9FLZfLA5CJ"
      },
      "source": [
        "We also evaluate the new GRU model that uses attention on our test set."
      ]
    },
    {
      "cell_type": "code",
      "execution_count": null,
      "metadata": {
        "execution": {
          "iopub.execute_input": "2023-01-27T19:28:16.390539Z",
          "iopub.status.busy": "2023-01-27T19:28:16.390151Z",
          "iopub.status.idle": "2023-01-27T19:28:16.939186Z",
          "shell.execute_reply": "2023-01-27T19:28:16.938066Z",
          "shell.execute_reply.started": "2023-01-27T19:28:16.390490Z"
        },
        "id": "_gwlqkl6CQZh",
        "outputId": "2fcfbf3d-8cd3-4402-97e0-82dd3e036a96",
        "trusted": true
      },
      "outputs": [
        {
          "name": "stdout",
          "output_type": "stream",
          "text": [
            "Test set:\n",
            "               precision    recall  f1-score   support\n",
            "\n",
            "         0.0       0.89      0.86      0.87       922\n",
            "         1.0       0.86      0.89      0.87       879\n",
            "\n",
            "    accuracy                           0.87      1801\n",
            "   macro avg       0.87      0.87      0.87      1801\n",
            "weighted avg       0.87      0.87      0.87      1801\n",
            "\n"
          ]
        }
      ],
      "source": [
        "all_test_labels = np.array([])\n",
        "all_test_predictions = np.array([])\n",
        "\n",
        "model_gru_attention.eval()\n",
        "\n",
        "with torch.no_grad():\n",
        "  for i, ((reviews, review_len), labels) in enumerate(test_dataloader):\n",
        "    all_test_labels = np.append(all_test_labels, labels.cpu().numpy())\n",
        "    outputs = model_gru_attention(reviews, review_len)\n",
        "\n",
        "    _, predictions = torch.max(outputs, 1)\n",
        "    all_test_predictions = np.append(all_test_predictions, predictions.cpu().numpy())\n",
        "\n",
        "print(\"Test set:\\n\", classification_report(all_test_labels, all_test_predictions))"
      ]
    },
    {
      "cell_type": "markdown",
      "metadata": {
        "id": "ZV-gEH8YGxjo"
      },
      "source": [
        "Section for testing with a new test dataset given by the user. Just insert the path of your test csv file in the `path_to_your_test_set` variable and run the code (while having already run the code written before this message).\n",
        "After running the following code, a classification report providing precision, recall and F-measure for your test set will be printed on the screen."
      ]
    },
    {
      "cell_type": "code",
      "execution_count": null,
      "metadata": {
        "execution": {
          "iopub.execute_input": "2023-01-27T19:33:47.429504Z",
          "iopub.status.busy": "2023-01-27T19:33:47.428782Z",
          "iopub.status.idle": "2023-01-27T19:34:50.395137Z",
          "shell.execute_reply": "2023-01-27T19:34:50.393963Z",
          "shell.execute_reply.started": "2023-01-27T19:33:47.429468Z"
        },
        "id": "m6sAJ_n6Bn2J",
        "trusted": true
      },
      "outputs": [],
      "source": [
        "#########################################\n",
        "############# YOUR TEST SET #############\n",
        "#########################################\n",
        "\n",
        "path_to_your_test_set = 'path'\n",
        "\n",
        "df_test = pd.read_csv(path_to_your_test_set, sep='\\t')\n",
        "\n",
        "df_test = data_preprocessing(df_test)\n",
        "\n",
        "df_test = df_test[['reviews_edited', 'target']]\n",
        "x = df_test[['reviews_edited']]\n",
        "y = np.ravel(df_test[['target']])\n",
        "\n",
        "my_test_dataset = CustomDataset(x, y)\n",
        "\n",
        "my_test_dataloader = torch.utils.data.DataLoader(dataset = my_test_dataset, batch_size = batch_size,\n",
        "                                              shuffle = True, collate_fn = collate)\n",
        "\n",
        "all_my_test_labels = np.array([])\n",
        "all_my_test_predictions = np.array([])\n",
        "\n",
        "model_lstm.eval()\n",
        "\n",
        "with torch.no_grad():\n",
        "  for i, ((reviews, review_len), labels) in enumerate(my_test_dataloader):\n",
        "    all_my_test_labels = np.append(all_my_test_labels, labels.cpu().numpy())\n",
        "    outputs = model_lstm(reviews, review_len)\n",
        "\n",
        "    _, predictions = torch.max(outputs, 1)\n",
        "    all_my_test_predictions = np.append(all_my_test_predictions, predictions.cpu().numpy())\n",
        "\n",
        "print(\"My test set:\\n\", classification_report(all_my_test_labels, all_my_test_predictions))"
      ]
    }
  ],
  "metadata": {
    "accelerator": "GPU",
    "colab": {
      "provenance": []
    },
    "gpuClass": "standard",
    "kernelspec": {
      "display_name": "Python 3",
      "language": "python",
      "name": "python3"
    },
    "language_info": {
      "codemirror_mode": {
        "name": "ipython",
        "version": 3
      },
      "file_extension": ".py",
      "mimetype": "text/x-python",
      "name": "python",
      "nbconvert_exporter": "python",
      "pygments_lexer": "ipython3",
      "version": "3.7.12"
    }
  },
  "nbformat": 4,
  "nbformat_minor": 0
}
